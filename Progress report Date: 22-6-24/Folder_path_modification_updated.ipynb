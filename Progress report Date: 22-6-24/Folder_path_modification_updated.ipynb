{
  "nbformat": 4,
  "nbformat_minor": 0,
  "metadata": {
    "colab": {
      "provenance": []
    },
    "kernelspec": {
      "name": "python3",
      "display_name": "Python 3"
    },
    "language_info": {
      "name": "python"
    }
  },
  "cells": [
    {
      "cell_type": "code",
      "source": [
        "from google.colab import drive\n",
        "drive.mount('/content/drive')\n"
      ],
      "metadata": {
        "colab": {
          "base_uri": "https://localhost:8080/"
        },
        "id": "tX5h1zzQHmQ0",
        "outputId": "83f8149b-5087-436b-c53d-1618206d2410"
      },
      "execution_count": null,
      "outputs": [
        {
          "output_type": "stream",
          "name": "stdout",
          "text": [
            "Mounted at /content/drive\n"
          ]
        }
      ]
    },
    {
      "cell_type": "code",
      "execution_count": null,
      "metadata": {
        "colab": {
          "base_uri": "https://localhost:8080/",
          "height": 52
        },
        "id": "7-toZNYRC3dq",
        "outputId": "174cf71a-8143-4f78-877e-6a4d82c6151e"
      },
      "outputs": [
        {
          "output_type": "stream",
          "name": "stdout",
          "text": [
            "Drive already mounted at /content/drive; to attempt to forcibly remount, call drive.mount(\"/content/drive\", force_remount=True).\n"
          ]
        },
        {
          "output_type": "display_data",
          "data": {
            "text/plain": [
              "<IPython.core.display.Javascript object>"
            ],
            "application/javascript": [
              "\n",
              "    async function download(id, filename, size) {\n",
              "      if (!google.colab.kernel.accessAllowed) {\n",
              "        return;\n",
              "      }\n",
              "      const div = document.createElement('div');\n",
              "      const label = document.createElement('label');\n",
              "      label.textContent = `Downloading \"${filename}\": `;\n",
              "      div.appendChild(label);\n",
              "      const progress = document.createElement('progress');\n",
              "      progress.max = size;\n",
              "      div.appendChild(progress);\n",
              "      document.body.appendChild(div);\n",
              "\n",
              "      const buffers = [];\n",
              "      let downloaded = 0;\n",
              "\n",
              "      const channel = await google.colab.kernel.comms.open(id);\n",
              "      // Send a message to notify the kernel that we're ready.\n",
              "      channel.send({})\n",
              "\n",
              "      for await (const message of channel.messages) {\n",
              "        // Send a message to notify the kernel that we're ready.\n",
              "        channel.send({})\n",
              "        if (message.buffers) {\n",
              "          for (const buffer of message.buffers) {\n",
              "            buffers.push(buffer);\n",
              "            downloaded += buffer.byteLength;\n",
              "            progress.value = downloaded;\n",
              "          }\n",
              "        }\n",
              "      }\n",
              "      const blob = new Blob(buffers, {type: 'application/binary'});\n",
              "      const a = document.createElement('a');\n",
              "      a.href = window.URL.createObjectURL(blob);\n",
              "      a.download = filename;\n",
              "      div.appendChild(a);\n",
              "      a.click();\n",
              "      div.remove();\n",
              "    }\n",
              "  "
            ]
          },
          "metadata": {}
        },
        {
          "output_type": "display_data",
          "data": {
            "text/plain": [
              "<IPython.core.display.Javascript object>"
            ],
            "application/javascript": [
              "download(\"download_13eaa59d-4797-400f-9dba-a6e318c0a2ef\", \"DirectoryStructure.xlsx\", 5174)"
            ]
          },
          "metadata": {}
        },
        {
          "output_type": "stream",
          "name": "stdout",
          "text": [
            "Excel file created and downloaded from: /content/drive/My Drive/your-output-folder-path/DirectoryStructure.xlsx\n"
          ]
        }
      ],
      "source": [
        "import os\n",
        "import pandas as pd\n",
        "from google.colab import drive, files\n",
        "\n",
        "# Mount Google Drive\n",
        "drive.mount('/content/drive')\n",
        "\n",
        "def list_files_and_folders(path):\n",
        "    all_files = []\n",
        "    for root, dirs, files in os.walk(path):\n",
        "        depth = root.replace(path, '').count(os.sep)\n",
        "        indent = ' ' * 4 * (depth)\n",
        "        all_files.append(f\"{indent}{os.path.basename(root)}/\")\n",
        "        for f in files:\n",
        "            all_files.append(f\"{indent}  {f}\")\n",
        "    return all_files\n",
        "\n",
        "# Define your root folder path on Google Drive\n",
        "root_path = '/content/drive/My Drive/E'\n",
        "\n",
        "# List all files and folders\n",
        "files_folders = list_files_and_folders(root_path)\n",
        "\n",
        "# Create a DataFrame\n",
        "df = pd.DataFrame(files_folders, columns=[\"Path\"])\n",
        "\n",
        "# Define the output folder path and check if it exists\n",
        "output_folder_path = '/content/drive/My Drive/your-output-folder-path'\n",
        "if not os.path.exists(output_folder_path):\n",
        "    os.makedirs(output_folder_path)\n",
        "\n",
        "# Save to an Excel file\n",
        "excel_path = os.path.join(output_folder_path, 'DirectoryStructure.xlsx')\n",
        "df.to_excel(excel_path, index=False)\n",
        "\n",
        "# Download the file to your local machine\n",
        "files.download(excel_path)\n",
        "\n",
        "print(f\"Excel file created and downloaded from: {excel_path}\")\n"
      ]
    },
    {
      "cell_type": "code",
      "source": [
        "import os\n",
        "import pandas as pd\n",
        "from google.colab import drive, files\n",
        "\n",
        "# Mount Google Drive\n",
        "drive.mount('/content/drive')\n",
        "\n",
        "def list_files_and_folders(path):\n",
        "    all_entries = []\n",
        "    for root, dirs, files in os.walk(path):\n",
        "        path_parts = root.replace(path, '').strip(os.sep).split(os.sep)\n",
        "        for f in files:\n",
        "            # Prepare row entry that starts with the root folder and fills up subfolders\n",
        "            row = ['E'] + path_parts + [f] + [''] * (5 - len(path_parts))  # Adjust '5' based on maximum depth\n",
        "            all_entries.append(row)\n",
        "    return all_entries\n",
        "\n",
        "# Define your root folder path on Google Drive\n",
        "root_path = '/content/drive/My Drive/E'\n",
        "\n",
        "# List all files and folders\n",
        "files_folders = list_files_and_folders(root_path)\n",
        "\n",
        "# Create a DataFrame\n",
        "df = pd.DataFrame(files_folders, columns=[\"Root\", \"Subfolder1\", \"Subfolder2\", \"Subfolder3\", \"Subfolder4\", \"Subfolder5\", \"Files\"])\n",
        "\n",
        "# Define the output folder path and check if it exists\n",
        "output_folder_path = '/content/drive/My Drive/your-output-folder-path'\n",
        "if not os.path.exists(output_folder_path):\n",
        "    os.makedirs(output_folder_path)\n",
        "\n",
        "# Save to an Excel file\n",
        "excel_path = os.path.join(output_folder_path, 'DirectoryStructure.xlsx')\n",
        "df.to_excel(excel_path, index=False)\n",
        "\n",
        "# Download the file to your local machine\n",
        "files.download(excel_path)\n",
        "\n",
        "print(f\"Excel file created and downloaded from: {excel_path}\")\n"
      ],
      "metadata": {
        "colab": {
          "base_uri": "https://localhost:8080/",
          "height": 52
        },
        "id": "hEi6gm_uIF5M",
        "outputId": "893b98c5-e345-4734-e576-6ce0b1449c64"
      },
      "execution_count": null,
      "outputs": [
        {
          "output_type": "stream",
          "name": "stdout",
          "text": [
            "Drive already mounted at /content/drive; to attempt to forcibly remount, call drive.mount(\"/content/drive\", force_remount=True).\n"
          ]
        },
        {
          "output_type": "display_data",
          "data": {
            "text/plain": [
              "<IPython.core.display.Javascript object>"
            ],
            "application/javascript": [
              "\n",
              "    async function download(id, filename, size) {\n",
              "      if (!google.colab.kernel.accessAllowed) {\n",
              "        return;\n",
              "      }\n",
              "      const div = document.createElement('div');\n",
              "      const label = document.createElement('label');\n",
              "      label.textContent = `Downloading \"${filename}\": `;\n",
              "      div.appendChild(label);\n",
              "      const progress = document.createElement('progress');\n",
              "      progress.max = size;\n",
              "      div.appendChild(progress);\n",
              "      document.body.appendChild(div);\n",
              "\n",
              "      const buffers = [];\n",
              "      let downloaded = 0;\n",
              "\n",
              "      const channel = await google.colab.kernel.comms.open(id);\n",
              "      // Send a message to notify the kernel that we're ready.\n",
              "      channel.send({})\n",
              "\n",
              "      for await (const message of channel.messages) {\n",
              "        // Send a message to notify the kernel that we're ready.\n",
              "        channel.send({})\n",
              "        if (message.buffers) {\n",
              "          for (const buffer of message.buffers) {\n",
              "            buffers.push(buffer);\n",
              "            downloaded += buffer.byteLength;\n",
              "            progress.value = downloaded;\n",
              "          }\n",
              "        }\n",
              "      }\n",
              "      const blob = new Blob(buffers, {type: 'application/binary'});\n",
              "      const a = document.createElement('a');\n",
              "      a.href = window.URL.createObjectURL(blob);\n",
              "      a.download = filename;\n",
              "      div.appendChild(a);\n",
              "      a.click();\n",
              "      div.remove();\n",
              "    }\n",
              "  "
            ]
          },
          "metadata": {}
        },
        {
          "output_type": "display_data",
          "data": {
            "text/plain": [
              "<IPython.core.display.Javascript object>"
            ],
            "application/javascript": [
              "download(\"download_ed46c416-b9b5-4f46-b573-0fd9bbe5e631\", \"DirectoryStructure.xlsx\", 5349)"
            ]
          },
          "metadata": {}
        },
        {
          "output_type": "stream",
          "name": "stdout",
          "text": [
            "Excel file created and downloaded from: /content/drive/My Drive/your-output-folder-path/DirectoryStructure.xlsx\n"
          ]
        }
      ]
    },
    {
      "cell_type": "code",
      "source": [
        "import os\n",
        "import pandas as pd\n",
        "from google.colab import drive, files\n",
        "\n",
        "# Mount Google Drive\n",
        "drive.mount('/content/drive')\n",
        "\n",
        "def get_max_depth(path):\n",
        "    max_depth = 0\n",
        "    for root, dirs, files in os.walk(path):\n",
        "        depth = root.replace(path, '').count(os.sep)\n",
        "        if depth > max_depth:\n",
        "            max_depth = depth\n",
        "    return max_depth\n",
        "\n",
        "def list_files_and_folders(path, max_depth):\n",
        "    all_entries = []\n",
        "    for root, dirs, files in os.walk(path):\n",
        "        path_parts = root.replace(path, '').strip(os.sep).split(os.sep)\n",
        "        for f in files:\n",
        "            # Prepare row entry that starts with the root folder and fills up subfolders\n",
        "            row = ['E'] + path_parts + [f] + [''] * (max_depth - len(path_parts))\n",
        "            all_entries.append(row)\n",
        "    return all_entries\n",
        "\n",
        "# Define your root folder path on Google Drive\n",
        "root_path = '/content/drive/My Drive/E'\n",
        "\n",
        "# Calculate the maximum depth of subfolders\n",
        "max_depth = get_max_depth(root_path)\n",
        "\n",
        "# List all files and folders\n",
        "files_folders = list_files_and_folders(root_path, max_depth)\n",
        "\n",
        "# Create a DataFrame with dynamic column names based on the max depth\n",
        "column_names = [\"Root\"] + [f\"Subfolder{i+1}\" for i in range(max_depth)] + [\"Files\"]\n",
        "df = pd.DataFrame(files_folders, columns=column_names)\n",
        "\n",
        "# Define the output folder path and check if it exists\n",
        "output_folder_path = '/content/drive/My Drive/your-output-folder-path'\n",
        "if not os.path.exists(output_folder_path):\n",
        "    os.makedirs(output_folder_path)\n",
        "\n",
        "# Save to an Excel file\n",
        "excel_path = os.path.join(output_folder_path, 'DirectoryStructure.xlsx')\n",
        "df.to_excel(excel_path, index=False)\n",
        "\n",
        "# Download the file to your local machine\n",
        "files.download(excel_path)\n",
        "\n",
        "print(f\"Excel file created and downloaded from: {excel_path}\")\n"
      ],
      "metadata": {
        "colab": {
          "base_uri": "https://localhost:8080/",
          "height": 52
        },
        "id": "Xkgsd2f_JSDD",
        "outputId": "5b863a13-b107-4f88-a3c7-a3cdc0255553"
      },
      "execution_count": null,
      "outputs": [
        {
          "output_type": "stream",
          "name": "stdout",
          "text": [
            "Drive already mounted at /content/drive; to attempt to forcibly remount, call drive.mount(\"/content/drive\", force_remount=True).\n"
          ]
        },
        {
          "output_type": "display_data",
          "data": {
            "text/plain": [
              "<IPython.core.display.Javascript object>"
            ],
            "application/javascript": [
              "\n",
              "    async function download(id, filename, size) {\n",
              "      if (!google.colab.kernel.accessAllowed) {\n",
              "        return;\n",
              "      }\n",
              "      const div = document.createElement('div');\n",
              "      const label = document.createElement('label');\n",
              "      label.textContent = `Downloading \"${filename}\": `;\n",
              "      div.appendChild(label);\n",
              "      const progress = document.createElement('progress');\n",
              "      progress.max = size;\n",
              "      div.appendChild(progress);\n",
              "      document.body.appendChild(div);\n",
              "\n",
              "      const buffers = [];\n",
              "      let downloaded = 0;\n",
              "\n",
              "      const channel = await google.colab.kernel.comms.open(id);\n",
              "      // Send a message to notify the kernel that we're ready.\n",
              "      channel.send({})\n",
              "\n",
              "      for await (const message of channel.messages) {\n",
              "        // Send a message to notify the kernel that we're ready.\n",
              "        channel.send({})\n",
              "        if (message.buffers) {\n",
              "          for (const buffer of message.buffers) {\n",
              "            buffers.push(buffer);\n",
              "            downloaded += buffer.byteLength;\n",
              "            progress.value = downloaded;\n",
              "          }\n",
              "        }\n",
              "      }\n",
              "      const blob = new Blob(buffers, {type: 'application/binary'});\n",
              "      const a = document.createElement('a');\n",
              "      a.href = window.URL.createObjectURL(blob);\n",
              "      a.download = filename;\n",
              "      div.appendChild(a);\n",
              "      a.click();\n",
              "      div.remove();\n",
              "    }\n",
              "  "
            ]
          },
          "metadata": {}
        },
        {
          "output_type": "display_data",
          "data": {
            "text/plain": [
              "<IPython.core.display.Javascript object>"
            ],
            "application/javascript": [
              "download(\"download_d5394eee-dfbb-4052-997e-dd7fa68640ba\", \"DirectoryStructure.xlsx\", 5349)"
            ]
          },
          "metadata": {}
        },
        {
          "output_type": "stream",
          "name": "stdout",
          "text": [
            "Excel file created and downloaded from: /content/drive/My Drive/your-output-folder-path/DirectoryStructure.xlsx\n"
          ]
        }
      ]
    },
    {
      "cell_type": "code",
      "source": [
        "import os\n",
        "import pandas as pd\n",
        "from google.colab import drive, files\n",
        "\n",
        "# Mount Google Drive\n",
        "drive.mount('/content/drive')\n",
        "\n",
        "def get_max_depth(path):\n",
        "    max_depth = 0\n",
        "    for root, dirs, files in os.walk(path):\n",
        "        depth = root.replace(path, '').count(os.sep)\n",
        "        if depth > max_depth:\n",
        "            max_depth = depth\n",
        "    return max_depth\n",
        "\n",
        "def list_files_and_folders(path, max_depth):\n",
        "    all_entries = []\n",
        "    for root, dirs, files in os.walk(path):\n",
        "        path_parts = root.replace(path, '').strip(os.sep).split(os.sep)\n",
        "        # Calculate the number of folders in the current path\n",
        "        current_depth = len(path_parts)\n",
        "        for f in files:\n",
        "            # Fill the subfolder information, append the file name to the last\n",
        "            row = ['E'] + path_parts + [''] * (max_depth - current_depth) + [f]\n",
        "            all_entries.append(row)\n",
        "    return all_entries\n",
        "\n",
        "# Define your root folder path on Google Drive\n",
        "root_path = '/content/drive/My Drive/E'\n",
        "\n",
        "# Calculate the maximum depth of subfolders\n",
        "max_depth = get_max_depth(root_path)\n",
        "\n",
        "# List all files and folders\n",
        "files_folders = list_files_and_folders(root_path, max_depth)\n",
        "\n",
        "# Create a DataFrame with dynamic column names based on the max depth\n",
        "column_names = [\"Root\"] + [f\"Sub{i+1}\" for i in range(max_depth)] + [\"Files\"]\n",
        "df = pd.DataFrame(files_folders, columns=column_names)\n",
        "\n",
        "# Define the output folder path and check if it exists\n",
        "output_folder_path = '/content/drive/My Drive/your-output-folder-path'\n",
        "if not os.path.exists(output_folder_path):\n",
        "    os.makedirs(output_folder_path)\n",
        "\n",
        "# Save to an Excel file\n",
        "excel_path = os.path.join(output_folder_path, 'DirectoryStructure.xlsx')\n",
        "df.to_excel(excel_path, index=False)\n",
        "\n",
        "# Download the file to your local machine\n",
        "files.download(excel_path)\n",
        "\n",
        "print(f\"Excel file created and downloaded from: {excel_path}\")\n"
      ],
      "metadata": {
        "colab": {
          "base_uri": "https://localhost:8080/",
          "height": 52
        },
        "id": "IOdX_961JvTq",
        "outputId": "7b3a5c12-f3ad-4140-ec85-6b805d00c053"
      },
      "execution_count": null,
      "outputs": [
        {
          "output_type": "stream",
          "name": "stdout",
          "text": [
            "Drive already mounted at /content/drive; to attempt to forcibly remount, call drive.mount(\"/content/drive\", force_remount=True).\n"
          ]
        },
        {
          "output_type": "display_data",
          "data": {
            "text/plain": [
              "<IPython.core.display.Javascript object>"
            ],
            "application/javascript": [
              "\n",
              "    async function download(id, filename, size) {\n",
              "      if (!google.colab.kernel.accessAllowed) {\n",
              "        return;\n",
              "      }\n",
              "      const div = document.createElement('div');\n",
              "      const label = document.createElement('label');\n",
              "      label.textContent = `Downloading \"${filename}\": `;\n",
              "      div.appendChild(label);\n",
              "      const progress = document.createElement('progress');\n",
              "      progress.max = size;\n",
              "      div.appendChild(progress);\n",
              "      document.body.appendChild(div);\n",
              "\n",
              "      const buffers = [];\n",
              "      let downloaded = 0;\n",
              "\n",
              "      const channel = await google.colab.kernel.comms.open(id);\n",
              "      // Send a message to notify the kernel that we're ready.\n",
              "      channel.send({})\n",
              "\n",
              "      for await (const message of channel.messages) {\n",
              "        // Send a message to notify the kernel that we're ready.\n",
              "        channel.send({})\n",
              "        if (message.buffers) {\n",
              "          for (const buffer of message.buffers) {\n",
              "            buffers.push(buffer);\n",
              "            downloaded += buffer.byteLength;\n",
              "            progress.value = downloaded;\n",
              "          }\n",
              "        }\n",
              "      }\n",
              "      const blob = new Blob(buffers, {type: 'application/binary'});\n",
              "      const a = document.createElement('a');\n",
              "      a.href = window.URL.createObjectURL(blob);\n",
              "      a.download = filename;\n",
              "      div.appendChild(a);\n",
              "      a.click();\n",
              "      div.remove();\n",
              "    }\n",
              "  "
            ]
          },
          "metadata": {}
        },
        {
          "output_type": "display_data",
          "data": {
            "text/plain": [
              "<IPython.core.display.Javascript object>"
            ],
            "application/javascript": [
              "download(\"download_1aeb8729-a645-47a7-b6c1-e87962b5537a\", \"DirectoryStructure.xlsx\", 5331)"
            ]
          },
          "metadata": {}
        },
        {
          "output_type": "stream",
          "name": "stdout",
          "text": [
            "Excel file created and downloaded from: /content/drive/My Drive/your-output-folder-path/DirectoryStructure.xlsx\n"
          ]
        }
      ]
    },
    {
      "cell_type": "code",
      "source": [
        "import os\n",
        "import pandas as pd\n",
        "from google.colab import drive, files\n",
        "\n",
        "# Mount Google Drive\n",
        "drive.mount('/content/drive')\n",
        "\n",
        "def get_max_depth(path):\n",
        "    max_depth = 0\n",
        "    for root, dirs, files in os.walk(path):\n",
        "        depth = root.replace(path, '').count(os.sep)\n",
        "        if depth > max_depth:\n",
        "            max_depth = depth\n",
        "    return max_depth\n",
        "\n",
        "def list_files_and_folders(path, max_depth):\n",
        "    all_entries = []\n",
        "    file_paths = {}  # Dictionary to track file paths and handle duplicates\n",
        "    for root, dirs, files in os.walk(path):\n",
        "        path_parts = root.replace(path, '').strip(os.sep).split(os.sep)\n",
        "        current_depth = len(path_parts)\n",
        "        for f in files:\n",
        "            # Create a unique identifier for the file based on its path\n",
        "            file_id = os.path.join(root, f)\n",
        "            if file_id in file_paths:\n",
        "                # If the file name is duplicated, rename it\n",
        "                base_name, ext = os.path.splitext(f)\n",
        "                new_name = f\"{base_name}_{file_paths[file_id]}{ext}\"\n",
        "                file_paths[file_id] += 1\n",
        "                f = new_name\n",
        "            else:\n",
        "                file_paths[file_id] = 1\n",
        "            # Fill the subfolder information, append the file name to the last\n",
        "            row = ['E'] + path_parts + [''] * (max_depth - current_depth) + [f]\n",
        "            all_entries.append(row)\n",
        "    return all_entries\n",
        "\n",
        "# Define your root folder path on Google Drive\n",
        "root_path = '/content/drive/My Drive/E'\n",
        "\n",
        "# Calculate the maximum depth of subfolders\n",
        "max_depth = get_max_depth(root_path)\n",
        "\n",
        "# List all files and folders\n",
        "files_folders = list_files_and_folders(root_path, max_depth)\n",
        "\n",
        "# Create a DataFrame with dynamic column names based on the max depth\n",
        "column_names = [\"Root\"] + [f\"Sub{i+1}\" for i in range(max_depth)] + [\"Files\"]\n",
        "df = pd.DataFrame(files_folders, columns=column_names)\n",
        "\n",
        "# Define the output folder path and check if it exists\n",
        "output_folder_path = '/content/drive/My Drive/your-output-folder-path'\n",
        "if not os.path.exists(output_folder_path):\n",
        "    os.makedirs(output_folder_path)\n",
        "\n",
        "# Save to an Excel file\n",
        "excel_path = os.path.join(output_folder_path, 'DirectoryStructure.xlsx')\n",
        "df.to_excel(excel_path, index=False)\n",
        "\n",
        "# Download the file to your local machine\n",
        "files.download(excel_path)\n",
        "\n",
        "print(f\"Excel file created and downloaded from: {excel_path}\")\n"
      ],
      "metadata": {
        "colab": {
          "base_uri": "https://localhost:8080/",
          "height": 52
        },
        "id": "XcV8Ec8EK10v",
        "outputId": "bc40c645-ba96-44b7-83b3-b24cefad1266"
      },
      "execution_count": null,
      "outputs": [
        {
          "output_type": "stream",
          "name": "stdout",
          "text": [
            "Drive already mounted at /content/drive; to attempt to forcibly remount, call drive.mount(\"/content/drive\", force_remount=True).\n"
          ]
        },
        {
          "output_type": "display_data",
          "data": {
            "text/plain": [
              "<IPython.core.display.Javascript object>"
            ],
            "application/javascript": [
              "\n",
              "    async function download(id, filename, size) {\n",
              "      if (!google.colab.kernel.accessAllowed) {\n",
              "        return;\n",
              "      }\n",
              "      const div = document.createElement('div');\n",
              "      const label = document.createElement('label');\n",
              "      label.textContent = `Downloading \"${filename}\": `;\n",
              "      div.appendChild(label);\n",
              "      const progress = document.createElement('progress');\n",
              "      progress.max = size;\n",
              "      div.appendChild(progress);\n",
              "      document.body.appendChild(div);\n",
              "\n",
              "      const buffers = [];\n",
              "      let downloaded = 0;\n",
              "\n",
              "      const channel = await google.colab.kernel.comms.open(id);\n",
              "      // Send a message to notify the kernel that we're ready.\n",
              "      channel.send({})\n",
              "\n",
              "      for await (const message of channel.messages) {\n",
              "        // Send a message to notify the kernel that we're ready.\n",
              "        channel.send({})\n",
              "        if (message.buffers) {\n",
              "          for (const buffer of message.buffers) {\n",
              "            buffers.push(buffer);\n",
              "            downloaded += buffer.byteLength;\n",
              "            progress.value = downloaded;\n",
              "          }\n",
              "        }\n",
              "      }\n",
              "      const blob = new Blob(buffers, {type: 'application/binary'});\n",
              "      const a = document.createElement('a');\n",
              "      a.href = window.URL.createObjectURL(blob);\n",
              "      a.download = filename;\n",
              "      div.appendChild(a);\n",
              "      a.click();\n",
              "      div.remove();\n",
              "    }\n",
              "  "
            ]
          },
          "metadata": {}
        },
        {
          "output_type": "display_data",
          "data": {
            "text/plain": [
              "<IPython.core.display.Javascript object>"
            ],
            "application/javascript": [
              "download(\"download_5f6f82d1-3ab1-4b20-95f7-d6c0297dba7d\", \"DirectoryStructure.xlsx\", 5438)"
            ]
          },
          "metadata": {}
        },
        {
          "output_type": "stream",
          "name": "stdout",
          "text": [
            "Excel file created and downloaded from: /content/drive/My Drive/your-output-folder-path/DirectoryStructure.xlsx\n"
          ]
        }
      ]
    },
    {
      "cell_type": "code",
      "source": [
        "import os\n",
        "import pandas as pd\n",
        "from google.colab import drive, files\n",
        "\n",
        "# Mount Google Drive\n",
        "drive.mount('/content/drive')\n",
        "\n",
        "def list_files_and_folders(path):\n",
        "    all_entries = []\n",
        "    seen_files = {}  # Dictionary to track files and handle duplicates if needed\n",
        "    for root, dirs, files in os.walk(path):\n",
        "        path_parts = root.replace(path, '').strip(os.sep).split(os.sep)\n",
        "        for f in files:\n",
        "            # Construct a unique key for each file based on its path to handle duplicates\n",
        "            file_key = os.path.join(*path_parts, f)\n",
        "            if file_key in seen_files:\n",
        "                base_name, ext = os.path.splitext(f)\n",
        "                new_name = f\"{base_name}_{seen_files[file_key]}{ext}\"\n",
        "                seen_files[file_key] += 1\n",
        "                f = new_name\n",
        "            else:\n",
        "                seen_files[file_key] = 1\n",
        "\n",
        "            # Append the path parts and file name to the list\n",
        "            row = ['E'] + path_parts + [f]\n",
        "            all_entries.append(row)\n",
        "\n",
        "    # Filter entries to adjust subfolder depth dynamically based on max seen in the list\n",
        "    max_depth = max(len(entry) - 2 for entry in all_entries)  # Exclude 'Root' and 'Files'\n",
        "    adjusted_entries = [entry + [''] * (max_depth - len(entry) + 2) for entry in all_entries]  # Adjust list length\n",
        "    return adjusted_entries\n",
        "\n",
        "# Define your root folder path on Google Drive\n",
        "root_path = '/content/drive/My Drive/E'\n",
        "\n",
        "# List all files and folders\n",
        "files_folders = list_files_and_folders(root_path)\n",
        "\n",
        "# Create a DataFrame with dynamic column names based on the max depth found\n",
        "column_names = [\"Root\"] + [f\"Subfolder{i+1}\" for i in range(len(files_folders[0]) - 2)] + [\"Files\"]\n",
        "df = pd.DataFrame(files_folders, columns=column_names)\n",
        "\n",
        "# Define the output folder path and check if it exists\n",
        "output_folder_path = '/content/drive/My Drive/your-output-folder-path'\n",
        "if not os.path.exists(output_folder_path):\n",
        "    os.makedirs(output_folder_path)\n",
        "\n",
        "# Save to an Excel file\n",
        "excel_path = os.path.join(output_folder_path, 'DirectoryStructure.xlsx')\n",
        "df.to_excel(excel_path, index=False)\n",
        "\n",
        "# Download the file to your local machine\n",
        "files.download(excel_path)\n",
        "\n",
        "print(f\"Excel file created and downloaded from: {excel_path}\")\n"
      ],
      "metadata": {
        "colab": {
          "base_uri": "https://localhost:8080/",
          "height": 52
        },
        "id": "egazbjpxMsB6",
        "outputId": "7bb0be66-4937-4b41-976d-9acc653ee9fc"
      },
      "execution_count": null,
      "outputs": [
        {
          "output_type": "stream",
          "name": "stdout",
          "text": [
            "Drive already mounted at /content/drive; to attempt to forcibly remount, call drive.mount(\"/content/drive\", force_remount=True).\n"
          ]
        },
        {
          "output_type": "display_data",
          "data": {
            "text/plain": [
              "<IPython.core.display.Javascript object>"
            ],
            "application/javascript": [
              "\n",
              "    async function download(id, filename, size) {\n",
              "      if (!google.colab.kernel.accessAllowed) {\n",
              "        return;\n",
              "      }\n",
              "      const div = document.createElement('div');\n",
              "      const label = document.createElement('label');\n",
              "      label.textContent = `Downloading \"${filename}\": `;\n",
              "      div.appendChild(label);\n",
              "      const progress = document.createElement('progress');\n",
              "      progress.max = size;\n",
              "      div.appendChild(progress);\n",
              "      document.body.appendChild(div);\n",
              "\n",
              "      const buffers = [];\n",
              "      let downloaded = 0;\n",
              "\n",
              "      const channel = await google.colab.kernel.comms.open(id);\n",
              "      // Send a message to notify the kernel that we're ready.\n",
              "      channel.send({})\n",
              "\n",
              "      for await (const message of channel.messages) {\n",
              "        // Send a message to notify the kernel that we're ready.\n",
              "        channel.send({})\n",
              "        if (message.buffers) {\n",
              "          for (const buffer of message.buffers) {\n",
              "            buffers.push(buffer);\n",
              "            downloaded += buffer.byteLength;\n",
              "            progress.value = downloaded;\n",
              "          }\n",
              "        }\n",
              "      }\n",
              "      const blob = new Blob(buffers, {type: 'application/binary'});\n",
              "      const a = document.createElement('a');\n",
              "      a.href = window.URL.createObjectURL(blob);\n",
              "      a.download = filename;\n",
              "      div.appendChild(a);\n",
              "      a.click();\n",
              "      div.remove();\n",
              "    }\n",
              "  "
            ]
          },
          "metadata": {}
        },
        {
          "output_type": "display_data",
          "data": {
            "text/plain": [
              "<IPython.core.display.Javascript object>"
            ],
            "application/javascript": [
              "download(\"download_871d7619-e420-4519-9925-4d808b5ac781\", \"DirectoryStructure.xlsx\", 5350)"
            ]
          },
          "metadata": {}
        },
        {
          "output_type": "stream",
          "name": "stdout",
          "text": [
            "Excel file created and downloaded from: /content/drive/My Drive/your-output-folder-path/DirectoryStructure.xlsx\n"
          ]
        }
      ]
    },
    {
      "cell_type": "code",
      "source": [
        "import os\n",
        "import pandas as pd\n",
        "from google.colab import drive, files\n",
        "\n",
        "# Mount Google Drive\n",
        "drive.mount('/content/drive')\n",
        "\n",
        "def get_max_depth(path):\n",
        "    max_depth = 0\n",
        "    for root, dirs, files in os.walk(path):\n",
        "        depth = root.replace(path, '').count(os.sep)\n",
        "        if depth > max_depth:\n",
        "            max_depth = depth\n",
        "    return max_depth\n",
        "\n",
        "def list_files_and_folders(path, max_depth):\n",
        "    all_entries = []\n",
        "    for root, dirs, files in os.walk(path):\n",
        "        path_parts = root.replace(path, '').strip(os.sep).split(os.sep)\n",
        "        # Calculate the number of folders in the current path\n",
        "        current_depth = len(path_parts)\n",
        "        for f in files:\n",
        "            # Fill the subfolder information, append the file name to the last\n",
        "            row = ['E'] + path_parts + [''] * (max_depth - current_depth) + [f]\n",
        "            all_entries.append(row)\n",
        "    return all_entries\n",
        "\n",
        "# Define your root folder path on Google Drive\n",
        "root_path = '/content/drive/My Drive/E'\n",
        "\n",
        "# Calculate the maximum depth of subfolders\n",
        "max_depth = get_max_depth(root_path)\n",
        "\n",
        "# List all files and folders\n",
        "files_folders = list_files_and_folders(root_path, max_depth)\n",
        "\n",
        "# Create a DataFrame with dynamic column names based on the max depth\n",
        "column_names = [\"Root\"] + [f\"Sub{i+1}\" for i in range(max_depth)] + [\"Files\"]\n",
        "df = pd.DataFrame(files_folders, columns=column_names)\n",
        "\n",
        "# Define the output folder path and check if it exists\n",
        "output_folder_path = '/content/drive/My Drive/your-output-folder-path'\n",
        "if not os.path.exists(output_folder_path):\n",
        "    os.makedirs(output_folder_path)\n",
        "\n",
        "# Save to an Excel file\n",
        "excel_path = os.path.join(output_folder_path, 'DirectoryStructure.xlsx')\n",
        "df.to_excel(excel_path, index=False)\n",
        "\n",
        "# Download the file to your local machine\n",
        "files.download(excel_path)\n",
        "\n",
        "print(f\"Excel file created and downloaded from: {excel_path}\")\n"
      ],
      "metadata": {
        "id": "6YC8cv9wNI66"
      },
      "execution_count": null,
      "outputs": []
    },
    {
      "cell_type": "code",
      "source": [
        "import pandas as pd\n",
        "from google.colab import drive, files\n",
        "\n",
        "# Mount Google Drive\n",
        "drive.mount('/content/drive')\n",
        "\n",
        "# Load the DataFrame from the previously generated Excel file\n",
        "excel_path = '/content/drive/My Drive/your-output-folder-path/DirectoryStructure.xlsx'\n",
        "df = pd.read_excel(excel_path)\n",
        "\n",
        "def reduce_paths(df):\n",
        "    # Remove empty subfolder columns that might be redundant\n",
        "    for col in df.columns:\n",
        "        if \"Sub\" in col and df[col].isnull().all():\n",
        "            df.drop(col, axis=1, inplace=True)\n",
        "    return df\n",
        "\n",
        "df = reduce_paths(df)\n",
        "\n",
        "def rename_duplicates(df):\n",
        "    # Dictionary to track file counts in paths\n",
        "    path_dict = {}\n",
        "    new_files = []\n",
        "    for idx, row in df.iterrows():\n",
        "        # Construct the full path as a tuple without the file\n",
        "        path_tuple = tuple(row[:-1])\n",
        "        file_name = row['Files']\n",
        "        if (path_tuple, file_name) in path_dict:\n",
        "            base_name, ext = os.path.splitext(file_name)\n",
        "            new_name = f\"{base_name}_{path_dict[(path_tuple, file_name)]}{ext}\"\n",
        "            path_dict[(path_tuple, file_name)] += 1\n",
        "            new_files.append(new_name)\n",
        "        else:\n",
        "            path_dict[(path_tuple, file_name)] = 1\n",
        "            new_files.append(file_name)\n",
        "    df['Files'] = new_files\n",
        "    return df\n",
        "\n",
        "df = rename_duplicates(df)\n",
        "\n",
        "# Save the final structured DataFrame to an Excel file\n",
        "final_output_path = '/content/drive/My Drive/your-output-folder-path/FinalDirectoryStructure.xlsx'\n",
        "df.to_excel(final_output_path, index=False)\n",
        "\n",
        "# Download the final Excel file\n",
        "files.download(final_output_path)\n",
        "\n",
        "print(f\"Final Excel file created and downloaded from: {final_output_path}\")\n"
      ],
      "metadata": {
        "colab": {
          "base_uri": "https://localhost:8080/",
          "height": 52
        },
        "id": "ZVOX2laSO3kC",
        "outputId": "ca1a500d-736b-4a2b-d089-ab8b3bf41981"
      },
      "execution_count": null,
      "outputs": [
        {
          "output_type": "stream",
          "name": "stdout",
          "text": [
            "Drive already mounted at /content/drive; to attempt to forcibly remount, call drive.mount(\"/content/drive\", force_remount=True).\n"
          ]
        },
        {
          "output_type": "display_data",
          "data": {
            "text/plain": [
              "<IPython.core.display.Javascript object>"
            ],
            "application/javascript": [
              "\n",
              "    async function download(id, filename, size) {\n",
              "      if (!google.colab.kernel.accessAllowed) {\n",
              "        return;\n",
              "      }\n",
              "      const div = document.createElement('div');\n",
              "      const label = document.createElement('label');\n",
              "      label.textContent = `Downloading \"${filename}\": `;\n",
              "      div.appendChild(label);\n",
              "      const progress = document.createElement('progress');\n",
              "      progress.max = size;\n",
              "      div.appendChild(progress);\n",
              "      document.body.appendChild(div);\n",
              "\n",
              "      const buffers = [];\n",
              "      let downloaded = 0;\n",
              "\n",
              "      const channel = await google.colab.kernel.comms.open(id);\n",
              "      // Send a message to notify the kernel that we're ready.\n",
              "      channel.send({})\n",
              "\n",
              "      for await (const message of channel.messages) {\n",
              "        // Send a message to notify the kernel that we're ready.\n",
              "        channel.send({})\n",
              "        if (message.buffers) {\n",
              "          for (const buffer of message.buffers) {\n",
              "            buffers.push(buffer);\n",
              "            downloaded += buffer.byteLength;\n",
              "            progress.value = downloaded;\n",
              "          }\n",
              "        }\n",
              "      }\n",
              "      const blob = new Blob(buffers, {type: 'application/binary'});\n",
              "      const a = document.createElement('a');\n",
              "      a.href = window.URL.createObjectURL(blob);\n",
              "      a.download = filename;\n",
              "      div.appendChild(a);\n",
              "      a.click();\n",
              "      div.remove();\n",
              "    }\n",
              "  "
            ]
          },
          "metadata": {}
        },
        {
          "output_type": "display_data",
          "data": {
            "text/plain": [
              "<IPython.core.display.Javascript object>"
            ],
            "application/javascript": [
              "download(\"download_8e5a603f-859a-4d93-ab66-d7fcf13d840c\", \"FinalDirectoryStructure.xlsx\", 5332)"
            ]
          },
          "metadata": {}
        },
        {
          "output_type": "stream",
          "name": "stdout",
          "text": [
            "Final Excel file created and downloaded from: /content/drive/My Drive/your-output-folder-path/FinalDirectoryStructure.xlsx\n"
          ]
        }
      ]
    },
    {
      "cell_type": "code",
      "source": [
        "import pandas as pd\n",
        "from google.colab import drive, files\n",
        "\n",
        "# Mount Google Drive\n",
        "drive.mount('/content/drive')\n",
        "\n",
        "# Load the DataFrame from the Excel file\n",
        "excel_path = '/content/drive/My Drive/your-output-folder-path/DirectoryStructure.xlsx'\n",
        "df = pd.read_excel(excel_path)\n",
        "\n",
        "# Function to consolidate directory paths\n",
        "def consolidate_paths(df):\n",
        "    # Remove unnecessary subfolder columns if higher level folders uniquely identify the file\n",
        "    for idx in range(df.shape[1] - 3, 1, -1):  # Start from last subfolder column and move left\n",
        "        col = f\"Sub{idx}\"\n",
        "        next_col = f\"Sub{idx+1}\"\n",
        "        if df[next_col].isna().all():\n",
        "            df.drop(columns=[next_col], inplace=True)\n",
        "        else:\n",
        "            break  # Stop if there's valid data in the next column\n",
        "\n",
        "    return df\n",
        "\n",
        "df = consolidate_paths(df)\n",
        "\n",
        "# Function to rename duplicate files within the same path\n",
        "def rename_duplicates(df):\n",
        "    # Track files to handle duplicates\n",
        "    file_tracker = {}\n",
        "    for idx, row in df.iterrows():\n",
        "        path = tuple(row.iloc[1:-1].dropna())  # Exclude 'Root' and 'Files', remove NaNs\n",
        "        file_name = row['Files']\n",
        "        full_path_key = (*path, file_name)\n",
        "\n",
        "        # Check and rename duplicates\n",
        "        if full_path_key in file_tracker:\n",
        "            base_name, ext = os.path.splitext(file_name)\n",
        "            new_name = f\"{base_name}_{file_tracker[full_path_key]}{ext}\"\n",
        "            df.at[idx, 'Files'] = new_name\n",
        "            file_tracker[full_path_key] += 1\n",
        "        else:\n",
        "            file_tracker[full_path_key] = 1\n",
        "\n",
        "    return df\n",
        "\n",
        "df = rename_duplicates(df)\n",
        "\n",
        "# Save the optimized DataFrame to an Excel file\n",
        "final_output_path = '/content/drive/My Drive/your-output-folder-path/FinalOptimizedDirectoryStructure.xlsx'\n",
        "df.to_excel(final_output_path, index=False)\n",
        "\n",
        "# Download the final Excel file\n",
        "files.download(final_output_path)\n",
        "\n",
        "print(f\"Optimized Excel file created and downloaded from: {final_output_path}\")\n"
      ],
      "metadata": {
        "colab": {
          "base_uri": "https://localhost:8080/",
          "height": 52
        },
        "id": "TWi_GsorO4ZR",
        "outputId": "0b048199-9f8c-4c1d-a0aa-5c72919b7518"
      },
      "execution_count": null,
      "outputs": [
        {
          "output_type": "stream",
          "name": "stdout",
          "text": [
            "Drive already mounted at /content/drive; to attempt to forcibly remount, call drive.mount(\"/content/drive\", force_remount=True).\n"
          ]
        },
        {
          "output_type": "display_data",
          "data": {
            "text/plain": [
              "<IPython.core.display.Javascript object>"
            ],
            "application/javascript": [
              "\n",
              "    async function download(id, filename, size) {\n",
              "      if (!google.colab.kernel.accessAllowed) {\n",
              "        return;\n",
              "      }\n",
              "      const div = document.createElement('div');\n",
              "      const label = document.createElement('label');\n",
              "      label.textContent = `Downloading \"${filename}\": `;\n",
              "      div.appendChild(label);\n",
              "      const progress = document.createElement('progress');\n",
              "      progress.max = size;\n",
              "      div.appendChild(progress);\n",
              "      document.body.appendChild(div);\n",
              "\n",
              "      const buffers = [];\n",
              "      let downloaded = 0;\n",
              "\n",
              "      const channel = await google.colab.kernel.comms.open(id);\n",
              "      // Send a message to notify the kernel that we're ready.\n",
              "      channel.send({})\n",
              "\n",
              "      for await (const message of channel.messages) {\n",
              "        // Send a message to notify the kernel that we're ready.\n",
              "        channel.send({})\n",
              "        if (message.buffers) {\n",
              "          for (const buffer of message.buffers) {\n",
              "            buffers.push(buffer);\n",
              "            downloaded += buffer.byteLength;\n",
              "            progress.value = downloaded;\n",
              "          }\n",
              "        }\n",
              "      }\n",
              "      const blob = new Blob(buffers, {type: 'application/binary'});\n",
              "      const a = document.createElement('a');\n",
              "      a.href = window.URL.createObjectURL(blob);\n",
              "      a.download = filename;\n",
              "      div.appendChild(a);\n",
              "      a.click();\n",
              "      div.remove();\n",
              "    }\n",
              "  "
            ]
          },
          "metadata": {}
        },
        {
          "output_type": "display_data",
          "data": {
            "text/plain": [
              "<IPython.core.display.Javascript object>"
            ],
            "application/javascript": [
              "download(\"download_8ad7145c-7158-4e8c-a997-2eb49dd44c9b\", \"FinalOptimizedDirectoryStructure.xlsx\", 5331)"
            ]
          },
          "metadata": {}
        },
        {
          "output_type": "stream",
          "name": "stdout",
          "text": [
            "Optimized Excel file created and downloaded from: /content/drive/My Drive/your-output-folder-path/FinalOptimizedDirectoryStructure.xlsx\n"
          ]
        }
      ]
    },
    {
      "cell_type": "code",
      "source": [
        "import pandas as pd\n",
        "\n",
        "# Path to the Excel file\n",
        "excel_path = '/content/drive/My Drive/your-output-folder-path/DirectoryStructure.xlsx'\n",
        "\n",
        "# Load the data\n",
        "df = pd.read_excel(excel_path)\n",
        "\n",
        "# Fill in missing subdirectory columns with empty strings and concatenate them\n",
        "df.fillna('', inplace=True)\n",
        "df['Subfolder1'] = df['Sub1'] + df['Sub2'] + df['Sub3'] + df['Sub4'] + df['Sub5']\n",
        "df['Subfolder1'] = df['Subfolder1'].apply(lambda x: x.strip())\n",
        "\n",
        "# Drop unneeded columns\n",
        "df = df[['Root', 'Subfolder1', 'Files']]\n",
        "\n",
        "# Extract file base name (e.g., 'f', 'g', 'h') from Files column\n",
        "df['FileBase'] = df['Files'].str.extract(r'(^.*?)\\d')\n",
        "\n",
        "# Sort values to maintain order consistency\n",
        "df.sort_values(by=['Root', 'Subfolder1', 'Files'], inplace=True)\n",
        "\n",
        "# Renaming files to ensure unique names within each subfolder\n",
        "df['FileNum'] = df.groupby(['Root', 'Subfolder1', 'FileBase']).cumcount() + 1\n",
        "df['Files'] = df['FileBase'] + df['FileNum'].astype(str) + '.txt'\n",
        "\n",
        "# Drop the temporary columns\n",
        "df.drop(['FileBase', 'FileNum'], axis=1, inplace=True)\n",
        "\n",
        "# Save the updated dataframe to a new Excel file\n",
        "output_path = '/content/drive/My Drive/your-output-folder-path/OptimizedDirectoryStructure.xlsx'\n",
        "df.to_excel(output_path, index=False)\n",
        "\n",
        "print(f\"Optimized directory structure saved to {output_path}\")\n"
      ],
      "metadata": {
        "colab": {
          "base_uri": "https://localhost:8080/"
        },
        "id": "ENc4i8TzPj_x",
        "outputId": "235171a8-e642-46af-cd61-dda53afb26e6"
      },
      "execution_count": null,
      "outputs": [
        {
          "output_type": "stream",
          "name": "stdout",
          "text": [
            "Optimized directory structure saved to /content/drive/My Drive/your-output-folder-path/OptimizedDirectoryStructure.xlsx\n"
          ]
        }
      ]
    },
    {
      "cell_type": "code",
      "source": [
        "import pandas as pd\n",
        "\n",
        "# Load the data from the Excel file\n",
        "df = pd.read_excel('/content/drive/My Drive/your-output-folder-path/DirectoryStructure.xlsx')\n",
        "\n",
        "# Fill missing values with empty strings\n",
        "df.fillna('', inplace=True)\n",
        "\n",
        "# Creating a unique path identifier for each row\n",
        "df['Path'] = df['Root'] + df['Sub1'] + df['Sub2'] + df['Sub3'] + df['Sub4'] + df['Sub5']\n",
        "\n",
        "# Initialize an empty dictionary to keep track of files in each path\n",
        "file_dict = {}\n",
        "\n",
        "# Prepare to store the results\n",
        "results = []\n",
        "\n",
        "# Iterate through each row in the dataframe\n",
        "for index, row in df.iterrows():\n",
        "    path = row['Path']\n",
        "    file_name = row['Files']\n",
        "\n",
        "    # If path not in dictionary, add it\n",
        "    if path not in file_dict:\n",
        "        file_dict[path] = {}\n",
        "\n",
        "    # Check if file already exists in the path\n",
        "    base_name = file_name.rsplit('.', 1)[0]  # Split by last period to get base name\n",
        "    extension = file_name.split('.')[-1]     # Get the file extension\n",
        "\n",
        "    # If file base name exists, rename by incrementing a counter until a new name is found\n",
        "    counter = 1\n",
        "    new_file_name = file_name\n",
        "    while new_file_name in file_dict[path]:\n",
        "        new_file_name = f\"{base_name}{counter}.{extension}\"\n",
        "        counter += 1\n",
        "\n",
        "    # Add new file name to dictionary for the path\n",
        "    file_dict[path][new_file_name] = True\n",
        "\n",
        "    # Add to results\n",
        "    results.append({\n",
        "        'Root': row['Root'],\n",
        "        'Subfolder1': row['Sub1'],  # Consider Sub1 as the immediate subfolder for simplicity\n",
        "        'Files': new_file_name\n",
        "    })\n",
        "\n",
        "# Convert results to DataFrame\n",
        "result_df = pd.DataFrame(results)\n",
        "\n",
        "# Save the optimized directory structure to a new Excel file\n",
        "output_path = '/content/drive/My Drive/your-output-folder-path/OptimizedDirectoryStructure.xlsx'\n",
        "result_df.to_excel(output_path, index=False)\n",
        "\n",
        "# Download the file if you are on Google Colab\n",
        "try:\n",
        "    from google.colab import files\n",
        "    files.download(output_path)\n",
        "except ImportError:\n",
        "    print(f\"File saved at {output_path}. You can manually download it from your Google Drive.\")\n"
      ],
      "metadata": {
        "colab": {
          "base_uri": "https://localhost:8080/",
          "height": 17
        },
        "id": "BslzWSzITkNJ",
        "outputId": "10e488b2-ee36-427e-82d2-012589afbee8"
      },
      "execution_count": null,
      "outputs": [
        {
          "output_type": "display_data",
          "data": {
            "text/plain": [
              "<IPython.core.display.Javascript object>"
            ],
            "application/javascript": [
              "\n",
              "    async function download(id, filename, size) {\n",
              "      if (!google.colab.kernel.accessAllowed) {\n",
              "        return;\n",
              "      }\n",
              "      const div = document.createElement('div');\n",
              "      const label = document.createElement('label');\n",
              "      label.textContent = `Downloading \"${filename}\": `;\n",
              "      div.appendChild(label);\n",
              "      const progress = document.createElement('progress');\n",
              "      progress.max = size;\n",
              "      div.appendChild(progress);\n",
              "      document.body.appendChild(div);\n",
              "\n",
              "      const buffers = [];\n",
              "      let downloaded = 0;\n",
              "\n",
              "      const channel = await google.colab.kernel.comms.open(id);\n",
              "      // Send a message to notify the kernel that we're ready.\n",
              "      channel.send({})\n",
              "\n",
              "      for await (const message of channel.messages) {\n",
              "        // Send a message to notify the kernel that we're ready.\n",
              "        channel.send({})\n",
              "        if (message.buffers) {\n",
              "          for (const buffer of message.buffers) {\n",
              "            buffers.push(buffer);\n",
              "            downloaded += buffer.byteLength;\n",
              "            progress.value = downloaded;\n",
              "          }\n",
              "        }\n",
              "      }\n",
              "      const blob = new Blob(buffers, {type: 'application/binary'});\n",
              "      const a = document.createElement('a');\n",
              "      a.href = window.URL.createObjectURL(blob);\n",
              "      a.download = filename;\n",
              "      div.appendChild(a);\n",
              "      a.click();\n",
              "      div.remove();\n",
              "    }\n",
              "  "
            ]
          },
          "metadata": {}
        },
        {
          "output_type": "display_data",
          "data": {
            "text/plain": [
              "<IPython.core.display.Javascript object>"
            ],
            "application/javascript": [
              "download(\"download_1c29114d-22af-467b-9990-b5b9bf559fe1\", \"OptimizedDirectoryStructure.xlsx\", 5131)"
            ]
          },
          "metadata": {}
        }
      ]
    },
    {
      "cell_type": "code",
      "source": [
        "import pandas as pd\n",
        "\n",
        "# Load the data from the Excel file\n",
        "df = pd.read_excel('/content/drive/My Drive/your-output-folder-path/DirectoryStructure.xlsx')\n",
        "\n",
        "# Fill missing values with empty strings\n",
        "df.fillna('', inplace=True)\n",
        "\n",
        "# Creating a unique path identifier for each row\n",
        "df['Path'] = df['Root'] + df['Sub1'] + df['Sub2'] + df['Sub3'] + df['Sub4'] + df['Sub5']\n",
        "\n",
        "# Initialize an empty dictionary to keep track of files in each subfolder for unique naming\n",
        "unique_names = {}\n",
        "\n",
        "# Prepare to store the results\n",
        "results = []\n",
        "\n",
        "# Iterate through each row in the dataframe\n",
        "for index, row in df.iterrows():\n",
        "    subfolder = row['Sub1']  # Consider Sub1 as the immediate subfolder for simplicity\n",
        "    full_path = row['Root'] + subfolder\n",
        "    original_file = row['Files']\n",
        "\n",
        "    # Determine base and extension of the file\n",
        "    base_name, extension = original_file.split('.')\n",
        "\n",
        "    # Initialize the subfolder in the dictionary if it's not already there\n",
        "    if full_path not in unique_names:\n",
        "        unique_names[full_path] = {}\n",
        "\n",
        "    # Generate a unique name for the file\n",
        "    if original_file in unique_names[full_path]:\n",
        "        # Increment the existing count for this file base\n",
        "        unique_names[full_path][original_file] += 1\n",
        "    else:\n",
        "        # Start a new count for a new file base\n",
        "        unique_names[full_path][original_file] = 1\n",
        "\n",
        "    # Create the new file name with its count\n",
        "    new_file_name = f\"{base_name}{unique_names[full_path][original_file]}.{extension}\"\n",
        "\n",
        "    # Append to results\n",
        "    results.append({\n",
        "        'Root': row['Root'],\n",
        "        'Subfolder1': subfolder,\n",
        "        'Files': new_file_name\n",
        "    })\n",
        "\n",
        "# Convert results to DataFrame\n",
        "result_df = pd.DataFrame(results)\n",
        "\n",
        "# Save the optimized directory structure to a new Excel file\n",
        "output_path = '/content/drive/My Drive/your-output-folder-path/OptimizedDirectoryStructure.xlsx'\n",
        "result_df.to_excel(output_path, index=False)\n",
        "\n",
        "print('Optimized directory structure has been saved.')\n"
      ],
      "metadata": {
        "colab": {
          "base_uri": "https://localhost:8080/"
        },
        "id": "PtWOOjvUWJmf",
        "outputId": "96104c19-5ea5-49cc-a8bb-7ac76ad3ca91"
      },
      "execution_count": null,
      "outputs": [
        {
          "output_type": "stream",
          "name": "stdout",
          "text": [
            "Optimized directory structure has been saved.\n"
          ]
        }
      ]
    },
    {
      "cell_type": "code",
      "source": [
        "import pandas as pd\n",
        "\n",
        "# Load the data from the Excel file\n",
        "df = pd.read_excel('/content/drive/My Drive/your-output-folder-path/DirectoryStructure.xlsx')\n",
        "\n",
        "# Fill missing values with empty strings\n",
        "df.fillna('', inplace=True)\n",
        "\n",
        "# Automatically create the 'Path' by concatenating 'Root' and all subdirectory columns\n",
        "sub_columns = [col for col in df.columns if 'Sub' in col]  # This collects all columns that include 'Sub' in their name\n",
        "df['Path'] = df['Root'] + df[sub_columns].apply(lambda x: ''.join(x), axis=1)\n",
        "\n",
        "# Initialize an empty dictionary to keep track of files in each subfolder for unique naming\n",
        "unique_names = {}\n",
        "\n",
        "# Prepare to store the results\n",
        "results = []\n",
        "\n",
        "# Iterate through each row in the dataframe\n",
        "for index, row in df.iterrows():\n",
        "    subfolder = row['Sub1']  # Consider Sub1 as the immediate subfolder for simplicity\n",
        "    full_path = row['Root'] + subfolder\n",
        "    original_file = row['Files']\n",
        "\n",
        "    # Determine base and extension of the file\n",
        "    base_name, extension = original_file.split('.')\n",
        "\n",
        "    # Initialize the subfolder in the dictionary if it's not already there\n",
        "    if full_path not in unique_names:\n",
        "        unique_names[full_path] = {}\n",
        "\n",
        "    # Generate a unique name for the file\n",
        "    if original_file in unique_names[full_path]:\n",
        "        # Increment the existing count for this file base\n",
        "        unique_names[full_path][original_file] += 1\n",
        "    else:\n",
        "        # Start a new count for a new file base\n",
        "        unique_names[full_path][original_file] = 1\n",
        "\n",
        "    # Create the new file name with its count\n",
        "    new_file_name = f\"{base_name}{unique_names[full_path][original_file]}.{extension}\"\n",
        "\n",
        "    # Append to results\n",
        "    results.append({\n",
        "        'Root': row['Root'],\n",
        "        'Subfolder1': subfolder,\n",
        "        'Files': new_file_name\n",
        "    })\n",
        "\n",
        "# Convert results to DataFrame\n",
        "result_df = pd.DataFrame(results)\n",
        "\n",
        "# Save the optimized directory structure to a new Excel file\n",
        "output_path = '/content/drive/My Drive/your-output-folder-path/OptimizedDirectoryStructure.xlsx'\n",
        "result_df.to_excel(output_path, index=False)\n",
        "\n",
        "# Download the file if you are on Google Colab\n",
        "try:\n",
        "    from google.colab import files\n",
        "    files.download(output_path)\n",
        "except ImportError:\n",
        "    print(f\"File saved at {output_path}. You can manually download it from your Google Drive.\")\n"
      ],
      "metadata": {
        "colab": {
          "base_uri": "https://localhost:8080/",
          "height": 17
        },
        "id": "Uv9TNSWDW4vf",
        "outputId": "d922e773-ae38-4b49-a0cc-097a758238bc"
      },
      "execution_count": null,
      "outputs": [
        {
          "output_type": "display_data",
          "data": {
            "text/plain": [
              "<IPython.core.display.Javascript object>"
            ],
            "application/javascript": [
              "\n",
              "    async function download(id, filename, size) {\n",
              "      if (!google.colab.kernel.accessAllowed) {\n",
              "        return;\n",
              "      }\n",
              "      const div = document.createElement('div');\n",
              "      const label = document.createElement('label');\n",
              "      label.textContent = `Downloading \"${filename}\": `;\n",
              "      div.appendChild(label);\n",
              "      const progress = document.createElement('progress');\n",
              "      progress.max = size;\n",
              "      div.appendChild(progress);\n",
              "      document.body.appendChild(div);\n",
              "\n",
              "      const buffers = [];\n",
              "      let downloaded = 0;\n",
              "\n",
              "      const channel = await google.colab.kernel.comms.open(id);\n",
              "      // Send a message to notify the kernel that we're ready.\n",
              "      channel.send({})\n",
              "\n",
              "      for await (const message of channel.messages) {\n",
              "        // Send a message to notify the kernel that we're ready.\n",
              "        channel.send({})\n",
              "        if (message.buffers) {\n",
              "          for (const buffer of message.buffers) {\n",
              "            buffers.push(buffer);\n",
              "            downloaded += buffer.byteLength;\n",
              "            progress.value = downloaded;\n",
              "          }\n",
              "        }\n",
              "      }\n",
              "      const blob = new Blob(buffers, {type: 'application/binary'});\n",
              "      const a = document.createElement('a');\n",
              "      a.href = window.URL.createObjectURL(blob);\n",
              "      a.download = filename;\n",
              "      div.appendChild(a);\n",
              "      a.click();\n",
              "      div.remove();\n",
              "    }\n",
              "  "
            ]
          },
          "metadata": {}
        },
        {
          "output_type": "display_data",
          "data": {
            "text/plain": [
              "<IPython.core.display.Javascript object>"
            ],
            "application/javascript": [
              "download(\"download_f58d644e-1b3f-4a13-bced-55dfbfec92ac\", \"OptimizedDirectoryStructure.xlsx\", 5142)"
            ]
          },
          "metadata": {}
        }
      ]
    },
    {
      "cell_type": "markdown",
      "source": [
        "# **Final Code**"
      ],
      "metadata": {
        "id": "Hv3Lr8KblhcV"
      }
    },
    {
      "cell_type": "code",
      "source": [
        "import os\n",
        "import pandas as pd\n",
        "from google.colab import drive, files\n",
        "\n",
        "# Mount Google Drive\n",
        "drive.mount('/content/drive')\n",
        "\n",
        "def get_max_depth(path):\n",
        "    max_depth = 0\n",
        "    for root, dirs, files in os.walk(path):\n",
        "        depth = root.replace(path, '').count(os.sep)\n",
        "        if depth > max_depth:\n",
        "            max_depth = depth\n",
        "    return max_depth\n",
        "\n",
        "def list_files_and_folders(path, max_depth):\n",
        "    all_entries = []\n",
        "    file_paths = {}  # Dictionary to track file paths and handle duplicates\n",
        "    for root, dirs, files in os.walk(path):\n",
        "        path_parts = root.replace(path, '').strip(os.sep).split(os.sep)\n",
        "        current_depth = len(path_parts)\n",
        "        for f in files:\n",
        "            # Create a unique identifier for the file based on its path\n",
        "            file_id = os.path.join(root, f)\n",
        "            if file_id in file_paths:\n",
        "                # If the file name is duplicated, rename it\n",
        "                base_name, ext = os.path.splitext(f)\n",
        "                new_name = f\"{base_name}_{file_paths[file_id]}{ext}\"\n",
        "                file_paths[file_id] += 1\n",
        "                f = new_name\n",
        "            else:\n",
        "                file_paths[file_id] = 1\n",
        "            # Fill the subfolder information, append the file name to the last\n",
        "            row = ['E'] + path_parts + [''] * (max_depth - current_depth) + [f]\n",
        "            all_entries.append(row)\n",
        "    return all_entries\n",
        "\n",
        "# Define your root folder path on Google Drive\n",
        "root_path = '/content/drive/My Drive/E'\n",
        "\n",
        "# Calculate the maximum depth of subfolders\n",
        "max_depth = get_max_depth(root_path)\n",
        "\n",
        "# List all files and folders\n",
        "files_folders = list_files_and_folders(root_path, max_depth)\n",
        "\n",
        "# Create a DataFrame with dynamic column names based on the max depth\n",
        "column_names = [\"Root\"] + [f\"Sub{i+1}\" for i in range(max_depth)] + [\"Files\"]\n",
        "df = pd.DataFrame(files_folders, columns=column_names)\n",
        "\n",
        "# Define the output folder path and check if it exists\n",
        "output_folder_path = '/content/drive/My Drive/your-output-folder-path'\n",
        "if not os.path.exists(output_folder_path):\n",
        "    os.makedirs(output_folder_path)\n",
        "\n",
        "# Save to an Excel file\n",
        "excel_path = os.path.join(output_folder_path, 'DirectoryStructure.xlsx')\n",
        "df.to_excel(excel_path, index=False)\n",
        "\n",
        "# Download the file to your local machine\n",
        "files.download(excel_path)\n",
        "\n",
        "print(f\"Excel file created and downloaded from: {excel_path}\")\n"
      ],
      "metadata": {
        "colab": {
          "base_uri": "https://localhost:8080/",
          "height": 52
        },
        "id": "PmTTpPEmlg6-",
        "outputId": "8c757f7d-bebd-4dfa-ff24-14e472249375"
      },
      "execution_count": null,
      "outputs": [
        {
          "output_type": "stream",
          "name": "stdout",
          "text": [
            "Drive already mounted at /content/drive; to attempt to forcibly remount, call drive.mount(\"/content/drive\", force_remount=True).\n"
          ]
        },
        {
          "output_type": "display_data",
          "data": {
            "text/plain": [
              "<IPython.core.display.Javascript object>"
            ],
            "application/javascript": [
              "\n",
              "    async function download(id, filename, size) {\n",
              "      if (!google.colab.kernel.accessAllowed) {\n",
              "        return;\n",
              "      }\n",
              "      const div = document.createElement('div');\n",
              "      const label = document.createElement('label');\n",
              "      label.textContent = `Downloading \"${filename}\": `;\n",
              "      div.appendChild(label);\n",
              "      const progress = document.createElement('progress');\n",
              "      progress.max = size;\n",
              "      div.appendChild(progress);\n",
              "      document.body.appendChild(div);\n",
              "\n",
              "      const buffers = [];\n",
              "      let downloaded = 0;\n",
              "\n",
              "      const channel = await google.colab.kernel.comms.open(id);\n",
              "      // Send a message to notify the kernel that we're ready.\n",
              "      channel.send({})\n",
              "\n",
              "      for await (const message of channel.messages) {\n",
              "        // Send a message to notify the kernel that we're ready.\n",
              "        channel.send({})\n",
              "        if (message.buffers) {\n",
              "          for (const buffer of message.buffers) {\n",
              "            buffers.push(buffer);\n",
              "            downloaded += buffer.byteLength;\n",
              "            progress.value = downloaded;\n",
              "          }\n",
              "        }\n",
              "      }\n",
              "      const blob = new Blob(buffers, {type: 'application/binary'});\n",
              "      const a = document.createElement('a');\n",
              "      a.href = window.URL.createObjectURL(blob);\n",
              "      a.download = filename;\n",
              "      div.appendChild(a);\n",
              "      a.click();\n",
              "      div.remove();\n",
              "    }\n",
              "  "
            ]
          },
          "metadata": {}
        },
        {
          "output_type": "display_data",
          "data": {
            "text/plain": [
              "<IPython.core.display.Javascript object>"
            ],
            "application/javascript": [
              "download(\"download_7e24ed40-35f9-4be1-abb9-c7b7b7453691\", \"DirectoryStructure.xlsx\", 5332)"
            ]
          },
          "metadata": {}
        },
        {
          "output_type": "stream",
          "name": "stdout",
          "text": [
            "Excel file created and downloaded from: /content/drive/My Drive/your-output-folder-path/DirectoryStructure.xlsx\n"
          ]
        }
      ]
    },
    {
      "cell_type": "code",
      "source": [
        "import pandas as pd\n",
        "\n",
        "# Load the data from the Excel file\n",
        "df = pd.read_excel('/content/drive/My Drive/your-output-folder-path/DirectoryStructure.xlsx')\n",
        "\n",
        "# Fill missing values with empty strings\n",
        "df.fillna('', inplace=True)\n",
        "\n",
        "# Creating a unique path identifier for each row\n",
        "sub_columns = [col for col in df.columns if 'Sub' in col]  # This collects all columns that include 'Sub' in their name\n",
        "df['Path'] = df['Root'] + df[sub_columns].apply(lambda x: ''.join(x), axis=1)\n",
        "\n",
        "# Initialize an empty dictionary to keep track of file counts in each subfolder\n",
        "file_count = {}\n",
        "\n",
        "# Prepare to store the results\n",
        "results = []\n",
        "\n",
        "# Iterate through each row in the dataframe\n",
        "for index, row in df.iterrows():\n",
        "    subfolder = row['Sub1']  # Consider Sub1 as the immediate subfolder for simplicity\n",
        "    full_path = row['Root'] + subfolder\n",
        "    file_extension = row['Files'].split('.')[-1]  # Get the file extension\n",
        "\n",
        "    # Initialize the subfolder in the dictionary if it's not already there\n",
        "    if full_path not in file_count:\n",
        "        file_count[full_path] = 1\n",
        "    else:\n",
        "        file_count[full_path] += 1\n",
        "\n",
        "    # Generate a unique name for the file using the count\n",
        "    base_name = row['Files'][0]  # Use the first character of the original file name for simplicity\n",
        "    new_file_name = f\"{base_name}{file_count[full_path]}.{file_extension}\"\n",
        "\n",
        "    # Append to results\n",
        "    results.append({\n",
        "        'Root': row['Root'],\n",
        "        'Subfolder1': subfolder,\n",
        "        'Files': new_file_name\n",
        "    })\n",
        "\n",
        "# Convert results to DataFrame\n",
        "result_df = pd.DataFrame(results)\n",
        "\n",
        "# # Save the optimized directory structure to a new Excel file\n",
        "# output_path = '/content/drive/My Drive/your-output-folder-path/OptimizedDirectoryStructure.xlsx'\n",
        "# result_df.to_excel(output_path, index=False)\n",
        "\n",
        "# print('Optimized directory structure has been saved.')\n",
        "\n",
        "# Save the optimized directory structure to a new Excel file\n",
        "output_path = '/content/drive/My Drive/your-output-folder-path/OptimizedDirectoryStructure.xlsx'\n",
        "result_df.to_excel(output_path, index=False)\n",
        "\n",
        "# Download the file if you are on Google Colab\n",
        "try:\n",
        "    from google.colab import files\n",
        "    files.download(output_path)\n",
        "except ImportError:\n",
        "    print(f\"File saved at {output_path}. You can manually download it from your Google Drive.\")"
      ],
      "metadata": {
        "colab": {
          "base_uri": "https://localhost:8080/",
          "height": 17
        },
        "id": "S2qMxwvjXJdf",
        "outputId": "dc508422-f163-472e-81cb-bf688e954bf7"
      },
      "execution_count": null,
      "outputs": [
        {
          "output_type": "display_data",
          "data": {
            "text/plain": [
              "<IPython.core.display.Javascript object>"
            ],
            "application/javascript": [
              "\n",
              "    async function download(id, filename, size) {\n",
              "      if (!google.colab.kernel.accessAllowed) {\n",
              "        return;\n",
              "      }\n",
              "      const div = document.createElement('div');\n",
              "      const label = document.createElement('label');\n",
              "      label.textContent = `Downloading \"${filename}\": `;\n",
              "      div.appendChild(label);\n",
              "      const progress = document.createElement('progress');\n",
              "      progress.max = size;\n",
              "      div.appendChild(progress);\n",
              "      document.body.appendChild(div);\n",
              "\n",
              "      const buffers = [];\n",
              "      let downloaded = 0;\n",
              "\n",
              "      const channel = await google.colab.kernel.comms.open(id);\n",
              "      // Send a message to notify the kernel that we're ready.\n",
              "      channel.send({})\n",
              "\n",
              "      for await (const message of channel.messages) {\n",
              "        // Send a message to notify the kernel that we're ready.\n",
              "        channel.send({})\n",
              "        if (message.buffers) {\n",
              "          for (const buffer of message.buffers) {\n",
              "            buffers.push(buffer);\n",
              "            downloaded += buffer.byteLength;\n",
              "            progress.value = downloaded;\n",
              "          }\n",
              "        }\n",
              "      }\n",
              "      const blob = new Blob(buffers, {type: 'application/binary'});\n",
              "      const a = document.createElement('a');\n",
              "      a.href = window.URL.createObjectURL(blob);\n",
              "      a.download = filename;\n",
              "      div.appendChild(a);\n",
              "      a.click();\n",
              "      div.remove();\n",
              "    }\n",
              "  "
            ]
          },
          "metadata": {}
        },
        {
          "output_type": "display_data",
          "data": {
            "text/plain": [
              "<IPython.core.display.Javascript object>"
            ],
            "application/javascript": [
              "download(\"download_c7c217b1-f329-4eec-b6b6-9a054d2ce630\", \"OptimizedDirectoryStructure.xlsx\", 5141)"
            ]
          },
          "metadata": {}
        }
      ]
    },
    {
      "cell_type": "code",
      "source": [
        "import os\n",
        "import pandas as pd\n",
        "from google.colab import drive\n",
        "from google.colab import files\n",
        "\n",
        "# Mount Google Drive\n",
        "drive.mount('/content/drive')\n",
        "\n",
        "# Function to calculate the maximum depth of subfolders\n",
        "def get_max_depth(path):\n",
        "    max_depth = 0\n",
        "    for root, dirs, files in os.walk(path):\n",
        "        depth = root.replace(path, '').count(os.sep)\n",
        "        if depth > max_depth:\n",
        "            max_depth = depth\n",
        "    return max_depth\n",
        "\n",
        "# Function to list files and folders, handling duplicates\n",
        "def list_files_and_folders(path, max_depth):\n",
        "    all_entries = []\n",
        "    file_paths = {}  # Dictionary to track file paths and handle duplicates\n",
        "    for root, dirs, files in os.walk(path):\n",
        "        path_parts = root.replace(path, '').strip(os.sep).split(os.sep)\n",
        "        current_depth = len(path_parts)\n",
        "        for f in files:\n",
        "            file_id = os.path.join(root, f)\n",
        "            if file_id in file_paths:\n",
        "                base_name, ext = os.path.splitext(f)\n",
        "                new_name = f\"{base_name}_{file_paths[file_id]}{ext}\"\n",
        "                file_paths[file_id] += 1\n",
        "                f = new_name\n",
        "            else:\n",
        "                file_paths[file_id] = 1\n",
        "            row = ['E'] + path_parts + [''] * (max_depth - current_depth) + [f]\n",
        "            all_entries.append(row)\n",
        "    return all_entries\n",
        "\n",
        "# Define the root folder path on Google Drive\n",
        "root_path = '/content/drive/My Drive/E'\n",
        "\n",
        "# Calculate the maximum depth of subfolders\n",
        "max_depth = get_max_depth(root_path)\n",
        "\n",
        "# List all files and folders\n",
        "files_folders = list_files_and_folders(root_path, max_depth)\n",
        "\n",
        "# Create a DataFrame with dynamic column names based on the max depth\n",
        "column_names = [\"Root\"] + [f\"Sub{i+1}\" for i in range(max_depth)] + [\"Files\"]\n",
        "df = pd.DataFrame(files_folders, columns=column_names)\n",
        "\n",
        "# Fill missing values with empty strings\n",
        "df.fillna('', inplace=True)\n",
        "\n",
        "# Creating a unique path identifier for each row\n",
        "sub_columns = [col for col in df.columns if 'Sub' in col]\n",
        "df['Path'] = df['Root'] + df[sub_columns].apply(lambda x: ''.join(x), axis=1)\n",
        "\n",
        "# Initialize a dictionary to keep track of file counts in each subfolder\n",
        "file_count = {}\n",
        "\n",
        "# Prepare to store the results for unique naming\n",
        "results = []\n",
        "\n",
        "# Iterate through each row in the dataframe\n",
        "for index, row in df.iterrows():\n",
        "    subfolder = row['Sub1']\n",
        "    full_path = row['Root'] + subfolder\n",
        "    file_extension = row['Files'].split('.')[-1]\n",
        "\n",
        "    # Initialize the subfolder in the dictionary if it's not already there\n",
        "    if full_path not in file_count:\n",
        "        file_count[full_path] = 1\n",
        "    else:\n",
        "        file_count[full_path] += 1\n",
        "\n",
        "    # Generate a unique name for the file using the count\n",
        "    base_name = row['Files'][0]\n",
        "    new_file_name = f\"{base_name}{file_count[full_path]}.{file_extension}\"\n",
        "\n",
        "    # Append to results\n",
        "    results.append({\n",
        "        'Root': row['Root'],\n",
        "        'Subfolder1': subfolder,\n",
        "        'Files': new_file_name\n",
        "    })\n",
        "\n",
        "# Convert results to DataFrame for the final output\n",
        "result_df = pd.DataFrame(results)\n",
        "\n",
        "# Define the output folder path and check if it exists\n",
        "output_folder_path = '/content/drive/My Drive/your-output-folder-path'\n",
        "if not os.path.exists(output_folder_path):\n",
        "    os.makedirs(output_folder_path)\n",
        "\n",
        "# Save the optimized directory structure to a new Excel file\n",
        "output_path = os.path.join(output_folder_path, 'OptimizedDirectoryStructure.xlsx')\n",
        "result_df.to_excel(output_path, index=False)\n",
        "\n",
        "# Download the file to your local machine\n",
        "files.download(output_path)\n",
        "\n",
        "print(f\"Excel file created and downloaded from: {output_path}\")\n"
      ],
      "metadata": {
        "colab": {
          "base_uri": "https://localhost:8080/",
          "height": 52
        },
        "id": "L5k_Ex_paHD-",
        "outputId": "14b7fb2f-a815-424a-a8af-9f3edce0a9d2"
      },
      "execution_count": 5,
      "outputs": [
        {
          "output_type": "stream",
          "name": "stdout",
          "text": [
            "Drive already mounted at /content/drive; to attempt to forcibly remount, call drive.mount(\"/content/drive\", force_remount=True).\n"
          ]
        },
        {
          "output_type": "display_data",
          "data": {
            "text/plain": [
              "<IPython.core.display.Javascript object>"
            ],
            "application/javascript": [
              "\n",
              "    async function download(id, filename, size) {\n",
              "      if (!google.colab.kernel.accessAllowed) {\n",
              "        return;\n",
              "      }\n",
              "      const div = document.createElement('div');\n",
              "      const label = document.createElement('label');\n",
              "      label.textContent = `Downloading \"${filename}\": `;\n",
              "      div.appendChild(label);\n",
              "      const progress = document.createElement('progress');\n",
              "      progress.max = size;\n",
              "      div.appendChild(progress);\n",
              "      document.body.appendChild(div);\n",
              "\n",
              "      const buffers = [];\n",
              "      let downloaded = 0;\n",
              "\n",
              "      const channel = await google.colab.kernel.comms.open(id);\n",
              "      // Send a message to notify the kernel that we're ready.\n",
              "      channel.send({})\n",
              "\n",
              "      for await (const message of channel.messages) {\n",
              "        // Send a message to notify the kernel that we're ready.\n",
              "        channel.send({})\n",
              "        if (message.buffers) {\n",
              "          for (const buffer of message.buffers) {\n",
              "            buffers.push(buffer);\n",
              "            downloaded += buffer.byteLength;\n",
              "            progress.value = downloaded;\n",
              "          }\n",
              "        }\n",
              "      }\n",
              "      const blob = new Blob(buffers, {type: 'application/binary'});\n",
              "      const a = document.createElement('a');\n",
              "      a.href = window.URL.createObjectURL(blob);\n",
              "      a.download = filename;\n",
              "      div.appendChild(a);\n",
              "      a.click();\n",
              "      div.remove();\n",
              "    }\n",
              "  "
            ]
          },
          "metadata": {}
        },
        {
          "output_type": "display_data",
          "data": {
            "text/plain": [
              "<IPython.core.display.Javascript object>"
            ],
            "application/javascript": [
              "download(\"download_679b43ea-2bea-43e9-8c10-c11ddc67141b\", \"OptimizedDirectoryStructure.xlsx\", 5141)"
            ]
          },
          "metadata": {}
        },
        {
          "output_type": "stream",
          "name": "stdout",
          "text": [
            "Excel file created and downloaded from: /content/drive/My Drive/your-output-folder-path/OptimizedDirectoryStructure.xlsx\n"
          ]
        }
      ]
    },
    {
      "cell_type": "code",
      "source": [
        "import os\n",
        "import pandas as pd\n",
        "from google.colab import drive, files\n",
        "\n",
        "# Mount Google Drive\n",
        "drive.mount('/content/drive')\n",
        "\n",
        "def get_max_depth(path):\n",
        "    max_depth = 0\n",
        "    for root, dirs, files in os.walk(path):\n",
        "        depth = root.replace(path, '').count(os.sep)\n",
        "        if depth > max_depth:\n",
        "            max_depth = depth\n",
        "    return max_depth\n",
        "\n",
        "def list_files_and_folders(path, max_depth):\n",
        "    all_entries = []\n",
        "    for root, dirs, files in os.walk(path):\n",
        "        path_parts = root.replace(path, '').strip(os.sep).split(os.sep)\n",
        "        current_depth = len(path_parts)\n",
        "        for f in files:\n",
        "            # Complete path for identifying duplicates later if needed\n",
        "            row = ['E'] + path_parts + [''] * (max_depth - current_depth) + [f]\n",
        "            all_entries.append(row)\n",
        "    return all_entries\n",
        "\n",
        "# Define your root folder path on Google Drive\n",
        "root_path = '/content/drive/My Drive/E'\n",
        "\n",
        "# Calculate the maximum depth of subfolders\n",
        "max_depth = get_max_depth(root_path)\n",
        "\n",
        "# List all files and folders\n",
        "files_folders = list_files_and_folders(root_path, max_depth)\n",
        "\n",
        "# Create a DataFrame with dynamic column names based on the max depth\n",
        "column_names = [\"Root\"] + [f\"Sub{i+1}\" for i in range(max_depth)] + [\"Files\"]\n",
        "df_original = pd.DataFrame(files_folders, columns=column_names)\n",
        "\n",
        "# Copy original dataframe to modify for simplified version\n",
        "df_simplified = df_original.copy()\n",
        "\n",
        "# Simplify the file naming within each Sub1\n",
        "file_count = {}\n",
        "for index, row in df_simplified.iterrows():\n",
        "    subfolder = row['Sub1']\n",
        "    # Create unique file identifier based on original name\n",
        "    base_name, extension = os.path.splitext(row['Files'])\n",
        "    if subfolder not in file_count:\n",
        "        file_count[subfolder] = 1\n",
        "    else:\n",
        "        file_count[subfolder] += 1\n",
        "    # Assign new file name based on count\n",
        "    row['Files'] = f\"{base_name[0]}{file_count[subfolder]}{extension}\"\n",
        "\n",
        "# Save the output to an Excel file with two sheets\n",
        "output_folder_path = '/content/drive/My Drive/your-output-folder-path'\n",
        "if not os.path.exists(output_folder_path):\n",
        "    os.makedirs(output_folder_path)\n",
        "\n",
        "excel_path = os.path.join(output_folder_path, 'DirectoryStructure.xlsx')\n",
        "with pd.ExcelWriter(excel_path) as writer:\n",
        "    df_original.to_excel(writer, sheet_name='Original', index=False)\n",
        "    df_simplified[['Root', 'Sub1', 'Files']].rename(columns={'Sub1': 'Subfolder1'}).to_excel(writer, sheet_name='Simplified', index=False)\n",
        "\n",
        "# Download the file to your local machine\n",
        "files.download(excel_path)\n",
        "\n",
        "print(f\"Excel file created and downloaded from: {excel_path}\")\n"
      ],
      "metadata": {
        "colab": {
          "base_uri": "https://localhost:8080/",
          "height": 52
        },
        "id": "Mns_ws_tgJ75",
        "outputId": "96579ec8-e96a-490d-ea0f-7809b8003c05"
      },
      "execution_count": 4,
      "outputs": [
        {
          "output_type": "stream",
          "name": "stdout",
          "text": [
            "Drive already mounted at /content/drive; to attempt to forcibly remount, call drive.mount(\"/content/drive\", force_remount=True).\n"
          ]
        },
        {
          "output_type": "display_data",
          "data": {
            "text/plain": [
              "<IPython.core.display.Javascript object>"
            ],
            "application/javascript": [
              "\n",
              "    async function download(id, filename, size) {\n",
              "      if (!google.colab.kernel.accessAllowed) {\n",
              "        return;\n",
              "      }\n",
              "      const div = document.createElement('div');\n",
              "      const label = document.createElement('label');\n",
              "      label.textContent = `Downloading \"${filename}\": `;\n",
              "      div.appendChild(label);\n",
              "      const progress = document.createElement('progress');\n",
              "      progress.max = size;\n",
              "      div.appendChild(progress);\n",
              "      document.body.appendChild(div);\n",
              "\n",
              "      const buffers = [];\n",
              "      let downloaded = 0;\n",
              "\n",
              "      const channel = await google.colab.kernel.comms.open(id);\n",
              "      // Send a message to notify the kernel that we're ready.\n",
              "      channel.send({})\n",
              "\n",
              "      for await (const message of channel.messages) {\n",
              "        // Send a message to notify the kernel that we're ready.\n",
              "        channel.send({})\n",
              "        if (message.buffers) {\n",
              "          for (const buffer of message.buffers) {\n",
              "            buffers.push(buffer);\n",
              "            downloaded += buffer.byteLength;\n",
              "            progress.value = downloaded;\n",
              "          }\n",
              "        }\n",
              "      }\n",
              "      const blob = new Blob(buffers, {type: 'application/binary'});\n",
              "      const a = document.createElement('a');\n",
              "      a.href = window.URL.createObjectURL(blob);\n",
              "      a.download = filename;\n",
              "      div.appendChild(a);\n",
              "      a.click();\n",
              "      div.remove();\n",
              "    }\n",
              "  "
            ]
          },
          "metadata": {}
        },
        {
          "output_type": "display_data",
          "data": {
            "text/plain": [
              "<IPython.core.display.Javascript object>"
            ],
            "application/javascript": [
              "download(\"download_1aa308e1-fea3-4b50-9520-970114a6cd9a\", \"DirectoryStructure.xlsx\", 6039)"
            ]
          },
          "metadata": {}
        },
        {
          "output_type": "stream",
          "name": "stdout",
          "text": [
            "Excel file created and downloaded from: /content/drive/My Drive/your-output-folder-path/DirectoryStructure.xlsx\n"
          ]
        }
      ]
    },
    {
      "cell_type": "markdown",
      "source": [
        "# **Second final Attempted**"
      ],
      "metadata": {
        "id": "YNtMZ9L4ieK5"
      }
    },
    {
      "cell_type": "code",
      "source": [
        "import os\n",
        "import pandas as pd\n",
        "from google.colab import drive, files\n",
        "\n",
        "# Mount Google Drive\n",
        "drive.mount('/content/drive')\n",
        "\n",
        "def get_max_depth(path):\n",
        "    max_depth = 0\n",
        "    for root, dirs, files in os.walk(path):\n",
        "        depth = root.replace(path, '').count(os.sep)\n",
        "        if depth > max_depth:\n",
        "            max_depth = depth\n",
        "    return max_depth\n",
        "\n",
        "def list_files_and_folders(path, max_depth):\n",
        "    all_entries = []\n",
        "    file_paths = {}  # Dictionary to track file paths and handle duplicates\n",
        "    for root, dirs, files in os.walk(path):\n",
        "        path_parts = root.replace(path, '').strip(os.sep).split(os.sep)\n",
        "        current_depth = len(path_parts)\n",
        "        for f in files:\n",
        "            # Create a unique identifier for the file based on its path\n",
        "            file_id = os.path.join(root, f)\n",
        "            if file_id in file_paths:\n",
        "                # If the file name is duplicated, rename it\n",
        "                base_name, ext = os.path.splitext(f)\n",
        "                new_name = f\"{base_name}_{file_paths[file_id]}{ext}\"\n",
        "                file_paths[file_id] += 1\n",
        "                f = new_name\n",
        "            else:\n",
        "                file_paths[file_id] = 1\n",
        "            # Fill the subfolder information, append the file name to the last\n",
        "            row = ['E'] + path_parts + [''] * (max_depth - current_depth) + [f]\n",
        "            all_entries.append(row)\n",
        "    return all_entries\n",
        "\n",
        "# Define your root folder path on Google Drive\n",
        "root_path = '/content/drive/My Drive/FOLDER8_100_BOOKS'\n",
        "\n",
        "# Calculate the maximum depth of subfolders\n",
        "max_depth = get_max_depth(root_path)\n",
        "\n",
        "# List all files and folders\n",
        "files_folders = list_files_and_folders(root_path, max_depth)\n",
        "\n",
        "# Create a DataFrame with dynamic column names based on the max depth\n",
        "column_names = [\"Root\"] + [f\"Sub{i+1}\" for i in range(max_depth)] + [\"Files\"]\n",
        "df = pd.DataFrame(files_folders, columns=column_names)\n",
        "\n",
        "# Define the output folder path and check if it exists\n",
        "output_folder_path = '/content/drive/My Drive/your-output-folder-path'\n",
        "if not os.path.exists(output_folder_path):\n",
        "    os.makedirs(output_folder_path)\n",
        "\n",
        "# Save to an Excel file\n",
        "excel_path = os.path.join(output_folder_path, 'DirectoryStructure.xlsx')\n",
        "df.to_excel(excel_path, index=False)\n",
        "\n",
        "# Download the file to your local machine\n",
        "files.download(excel_path)\n",
        "\n",
        "print(f\"Excel file created and downloaded from: {excel_path}\")\n"
      ],
      "metadata": {
        "colab": {
          "base_uri": "https://localhost:8080/",
          "height": 52
        },
        "id": "3y2Y0R0BgM2P",
        "outputId": "57c87195-8bdc-4cf2-c1bd-4abaa48b9eb7"
      },
      "execution_count": 2,
      "outputs": [
        {
          "output_type": "stream",
          "name": "stdout",
          "text": [
            "Mounted at /content/drive\n"
          ]
        },
        {
          "output_type": "display_data",
          "data": {
            "text/plain": [
              "<IPython.core.display.Javascript object>"
            ],
            "application/javascript": [
              "\n",
              "    async function download(id, filename, size) {\n",
              "      if (!google.colab.kernel.accessAllowed) {\n",
              "        return;\n",
              "      }\n",
              "      const div = document.createElement('div');\n",
              "      const label = document.createElement('label');\n",
              "      label.textContent = `Downloading \"${filename}\": `;\n",
              "      div.appendChild(label);\n",
              "      const progress = document.createElement('progress');\n",
              "      progress.max = size;\n",
              "      div.appendChild(progress);\n",
              "      document.body.appendChild(div);\n",
              "\n",
              "      const buffers = [];\n",
              "      let downloaded = 0;\n",
              "\n",
              "      const channel = await google.colab.kernel.comms.open(id);\n",
              "      // Send a message to notify the kernel that we're ready.\n",
              "      channel.send({})\n",
              "\n",
              "      for await (const message of channel.messages) {\n",
              "        // Send a message to notify the kernel that we're ready.\n",
              "        channel.send({})\n",
              "        if (message.buffers) {\n",
              "          for (const buffer of message.buffers) {\n",
              "            buffers.push(buffer);\n",
              "            downloaded += buffer.byteLength;\n",
              "            progress.value = downloaded;\n",
              "          }\n",
              "        }\n",
              "      }\n",
              "      const blob = new Blob(buffers, {type: 'application/binary'});\n",
              "      const a = document.createElement('a');\n",
              "      a.href = window.URL.createObjectURL(blob);\n",
              "      a.download = filename;\n",
              "      div.appendChild(a);\n",
              "      a.click();\n",
              "      div.remove();\n",
              "    }\n",
              "  "
            ]
          },
          "metadata": {}
        },
        {
          "output_type": "display_data",
          "data": {
            "text/plain": [
              "<IPython.core.display.Javascript object>"
            ],
            "application/javascript": [
              "download(\"download_fa1c1d20-a176-4791-957e-5bea3d4e612c\", \"DirectoryStructure.xlsx\", 51911)"
            ]
          },
          "metadata": {}
        },
        {
          "output_type": "stream",
          "name": "stdout",
          "text": [
            "Excel file created and downloaded from: /content/drive/My Drive/your-output-folder-path/DirectoryStructure.xlsx\n"
          ]
        }
      ]
    },
    {
      "cell_type": "code",
      "source": [
        "import os\n",
        "import pandas as pd\n",
        "from google.colab import drive, files\n",
        "\n",
        "# Mount Google Drive\n",
        "drive.mount('/content/drive')\n",
        "\n",
        "def get_max_depth(path):\n",
        "    max_depth = 0\n",
        "    for root, dirs, files in os.walk(path):\n",
        "        depth = root.replace(path, '').count(os.sep)\n",
        "        if depth > max_depth:\n",
        "            max_depth = depth\n",
        "    return max_depth\n",
        "\n",
        "def list_files_and_folders(path, max_depth):\n",
        "    all_entries = []\n",
        "    root_folder_name = os.path.basename(os.path.normpath(path))  # Get the last part of the root path as the root folder name\n",
        "    file_paths = {}  # Dictionary to track file paths and handle duplicates\n",
        "    for root, dirs, files in os.walk(path):\n",
        "        path_parts = root.replace(path, '').strip(os.sep).split(os.sep)\n",
        "        current_depth = len(path_parts)\n",
        "        for f in files:\n",
        "            file_id = os.path.join(root, f)\n",
        "            if file_id in file_paths:\n",
        "                base_name, ext = os.path.splitext(f)\n",
        "                new_name = f\"{base_name}_{file_paths[file_id]}{ext}\"\n",
        "                file_paths[file_id] += 1\n",
        "                f = new_name\n",
        "            else:\n",
        "                file_paths[file_id] = 1\n",
        "            row = [root_folder_name] + path_parts + [''] * (max_depth - current_depth) + [f]\n",
        "            all_entries.append(row)\n",
        "    return all_entries\n",
        "\n",
        "# Define your root folder path on Google Drive\n",
        "root_path = '/content/drive/My Drive/FOLDER8_100_BOOKS'\n",
        "\n",
        "# Calculate the maximum depth of subfolders\n",
        "max_depth = get_max_depth(root_path)\n",
        "\n",
        "# List all files and folders\n",
        "files_folders = list_files_and_folders(root_path, max_depth)\n",
        "\n",
        "# Create a DataFrame with dynamic column names based on the max depth\n",
        "column_names = [\"Root\"] + [f\"Sub{i+1}\" for i in range(max_depth)] + [\"Files\"]\n",
        "df = pd.DataFrame(files_folders, columns=column_names)\n",
        "\n",
        "# Define the output folder path and check if it exists\n",
        "output_folder_path = '/content/drive/My Drive/your-output-folder-path'\n",
        "if not os.path.exists(output_folder_path):\n",
        "    os.makedirs(output_folder_path)\n",
        "\n",
        "# Save to an Excel file\n",
        "excel_path = os.path.join(output_folder_path, 'DirectoryStructure.xlsx')\n",
        "df.to_excel(excel_path, index=False)\n",
        "\n",
        "# Download the file to your local machine\n",
        "files.download(excel_path)\n",
        "\n",
        "print(f\"Excel file created and downloaded from: {excel_path}\")\n"
      ],
      "metadata": {
        "id": "vI6W-28_j7RJ",
        "outputId": "f81791a9-1e6f-4d70-88e0-ef01148040c5",
        "colab": {
          "base_uri": "https://localhost:8080/",
          "height": 52
        }
      },
      "execution_count": 3,
      "outputs": [
        {
          "output_type": "stream",
          "name": "stdout",
          "text": [
            "Drive already mounted at /content/drive; to attempt to forcibly remount, call drive.mount(\"/content/drive\", force_remount=True).\n"
          ]
        },
        {
          "output_type": "display_data",
          "data": {
            "text/plain": [
              "<IPython.core.display.Javascript object>"
            ],
            "application/javascript": [
              "\n",
              "    async function download(id, filename, size) {\n",
              "      if (!google.colab.kernel.accessAllowed) {\n",
              "        return;\n",
              "      }\n",
              "      const div = document.createElement('div');\n",
              "      const label = document.createElement('label');\n",
              "      label.textContent = `Downloading \"${filename}\": `;\n",
              "      div.appendChild(label);\n",
              "      const progress = document.createElement('progress');\n",
              "      progress.max = size;\n",
              "      div.appendChild(progress);\n",
              "      document.body.appendChild(div);\n",
              "\n",
              "      const buffers = [];\n",
              "      let downloaded = 0;\n",
              "\n",
              "      const channel = await google.colab.kernel.comms.open(id);\n",
              "      // Send a message to notify the kernel that we're ready.\n",
              "      channel.send({})\n",
              "\n",
              "      for await (const message of channel.messages) {\n",
              "        // Send a message to notify the kernel that we're ready.\n",
              "        channel.send({})\n",
              "        if (message.buffers) {\n",
              "          for (const buffer of message.buffers) {\n",
              "            buffers.push(buffer);\n",
              "            downloaded += buffer.byteLength;\n",
              "            progress.value = downloaded;\n",
              "          }\n",
              "        }\n",
              "      }\n",
              "      const blob = new Blob(buffers, {type: 'application/binary'});\n",
              "      const a = document.createElement('a');\n",
              "      a.href = window.URL.createObjectURL(blob);\n",
              "      a.download = filename;\n",
              "      div.appendChild(a);\n",
              "      a.click();\n",
              "      div.remove();\n",
              "    }\n",
              "  "
            ]
          },
          "metadata": {}
        },
        {
          "output_type": "display_data",
          "data": {
            "text/plain": [
              "<IPython.core.display.Javascript object>"
            ],
            "application/javascript": [
              "download(\"download_f6380713-f4a4-4362-8465-4f4447e020ec\", \"DirectoryStructure.xlsx\", 51440)"
            ]
          },
          "metadata": {}
        },
        {
          "output_type": "stream",
          "name": "stdout",
          "text": [
            "Excel file created and downloaded from: /content/drive/My Drive/your-output-folder-path/DirectoryStructure.xlsx\n"
          ]
        }
      ]
    },
    {
      "cell_type": "code",
      "source": [
        "import os\n",
        "import pandas as pd\n",
        "from google.colab import drive\n",
        "from google.colab import files\n",
        "\n",
        "# Mount Google Drive\n",
        "drive.mount('/content/drive')\n",
        "\n",
        "# Function to calculate the maximum depth of subfolders\n",
        "def get_max_depth(path):\n",
        "    max_depth = 0\n",
        "    for root, dirs, files in os.walk(path):\n",
        "        depth = root.replace(path, '').count(os.sep)\n",
        "        if depth > max_depth:\n",
        "            max_depth = depth\n",
        "    return max_depth\n",
        "\n",
        "# Function to list files and folders, handling duplicates\n",
        "def list_files_and_folders(path, max_depth):\n",
        "    all_entries = []\n",
        "    file_paths = {}  # Dictionary to track file paths and handle duplicates\n",
        "    for root, dirs, files in os.walk(path):\n",
        "        path_parts = root.replace(path, '').strip(os.sep).split(os.sep)\n",
        "        current_depth = len(path_parts)\n",
        "        for f in files:\n",
        "            file_id = os.path.join(root, f)\n",
        "            if file_id in file_paths:\n",
        "                base_name, ext = os.path.splitext(f)\n",
        "                new_name = f\"{base_name}_{file_paths[file_id]}{ext}\"\n",
        "                file_paths[file_id] += 1\n",
        "                f = new_name\n",
        "            else:\n",
        "                file_paths[file_id] = 1\n",
        "            row = ['E'] + path_parts + [''] * (max_depth - current_depth) + [f]\n",
        "            all_entries.append(row)\n",
        "    return all_entries\n",
        "\n",
        "# Define the root folder path on Google Drive\n",
        "root_path = '/content/drive/My Drive/FOLDER8_100_BOOKS'\n",
        "\n",
        "# Calculate the maximum depth of subfolders\n",
        "max_depth = get_max_depth(root_path)\n",
        "\n",
        "# List all files and folders\n",
        "files_folders = list_files_and_folders(root_path, max_depth)\n",
        "\n",
        "# Create a DataFrame with dynamic column names based on the max depth\n",
        "column_names = [\"Root\"] + [f\"Sub{i+1}\" for i in range(max_depth)] + [\"Files\"]\n",
        "df = pd.DataFrame(files_folders, columns=column_names)\n",
        "\n",
        "# Fill missing values with empty strings\n",
        "df.fillna('', inplace=True)\n",
        "\n",
        "# Creating a unique path identifier for each row\n",
        "sub_columns = [col for col in df.columns if 'Sub' in col]\n",
        "df['Path'] = df['Root'] + df[sub_columns].apply(lambda x: ''.join(x), axis=1)\n",
        "\n",
        "# Initialize a dictionary to keep track of file counts in each subfolder\n",
        "file_count = {}\n",
        "\n",
        "# Prepare to store the results for unique naming\n",
        "results = []\n",
        "\n",
        "# Iterate through each row in the dataframe\n",
        "for index, row in df.iterrows():\n",
        "    subfolder = row['Sub1']\n",
        "    full_path = row['Root'] + subfolder\n",
        "    file_extension = row['Files'].split('.')[-1]\n",
        "\n",
        "    # Initialize the subfolder in the dictionary if it's not already there\n",
        "    if full_path not in file_count:\n",
        "        file_count[full_path] = 1\n",
        "    else:\n",
        "        file_count[full_path] += 1\n",
        "\n",
        "    # Generate a unique name for the file using the count\n",
        "    base_name = row['Files'][0]\n",
        "    new_file_name = f\"{base_name}{file_count[full_path]}.{file_extension}\"\n",
        "\n",
        "    # Append to results\n",
        "    results.append({\n",
        "        'Root': row['Root'],\n",
        "        'Subfolder1': subfolder,\n",
        "        'Files': new_file_name\n",
        "    })\n",
        "\n",
        "# Convert results to DataFrame for the final output\n",
        "result_df = pd.DataFrame(results)\n",
        "\n",
        "# Define the output folder path and check if it exists\n",
        "output_folder_path = '/content/drive/My Drive/your-output-folder-path'\n",
        "if not os.path.exists(output_folder_path):\n",
        "    os.makedirs(output_folder_path)\n",
        "\n",
        "# Save the optimized directory structure to a new Excel file\n",
        "output_path = os.path.join(output_folder_path, 'OptimizedDirectoryStructure.xlsx')\n",
        "result_df.to_excel(output_path, index=False)\n",
        "\n",
        "# Download the file to your local machine\n",
        "files.download(output_path)\n",
        "\n",
        "print(f\"Excel file created and downloaded from: {output_path}\")\n"
      ],
      "metadata": {
        "id": "EZm9XaXPj73_",
        "colab": {
          "base_uri": "https://localhost:8080/",
          "height": 52
        },
        "outputId": "ed4cf241-034c-44c1-864a-3ff2b3869a26"
      },
      "execution_count": 6,
      "outputs": [
        {
          "output_type": "stream",
          "name": "stdout",
          "text": [
            "Drive already mounted at /content/drive; to attempt to forcibly remount, call drive.mount(\"/content/drive\", force_remount=True).\n"
          ]
        },
        {
          "output_type": "display_data",
          "data": {
            "text/plain": [
              "<IPython.core.display.Javascript object>"
            ],
            "application/javascript": [
              "\n",
              "    async function download(id, filename, size) {\n",
              "      if (!google.colab.kernel.accessAllowed) {\n",
              "        return;\n",
              "      }\n",
              "      const div = document.createElement('div');\n",
              "      const label = document.createElement('label');\n",
              "      label.textContent = `Downloading \"${filename}\": `;\n",
              "      div.appendChild(label);\n",
              "      const progress = document.createElement('progress');\n",
              "      progress.max = size;\n",
              "      div.appendChild(progress);\n",
              "      document.body.appendChild(div);\n",
              "\n",
              "      const buffers = [];\n",
              "      let downloaded = 0;\n",
              "\n",
              "      const channel = await google.colab.kernel.comms.open(id);\n",
              "      // Send a message to notify the kernel that we're ready.\n",
              "      channel.send({})\n",
              "\n",
              "      for await (const message of channel.messages) {\n",
              "        // Send a message to notify the kernel that we're ready.\n",
              "        channel.send({})\n",
              "        if (message.buffers) {\n",
              "          for (const buffer of message.buffers) {\n",
              "            buffers.push(buffer);\n",
              "            downloaded += buffer.byteLength;\n",
              "            progress.value = downloaded;\n",
              "          }\n",
              "        }\n",
              "      }\n",
              "      const blob = new Blob(buffers, {type: 'application/binary'});\n",
              "      const a = document.createElement('a');\n",
              "      a.href = window.URL.createObjectURL(blob);\n",
              "      a.download = filename;\n",
              "      div.appendChild(a);\n",
              "      a.click();\n",
              "      div.remove();\n",
              "    }\n",
              "  "
            ]
          },
          "metadata": {}
        },
        {
          "output_type": "display_data",
          "data": {
            "text/plain": [
              "<IPython.core.display.Javascript object>"
            ],
            "application/javascript": [
              "download(\"download_48b3c426-1461-4048-b5f5-3d48b9818a23\", \"OptimizedDirectoryStructure.xlsx\", 34727)"
            ]
          },
          "metadata": {}
        },
        {
          "output_type": "stream",
          "name": "stdout",
          "text": [
            "Excel file created and downloaded from: /content/drive/My Drive/your-output-folder-path/OptimizedDirectoryStructure.xlsx\n"
          ]
        }
      ]
    },
    {
      "cell_type": "markdown",
      "source": [
        "# **Next Day** (23-6-24)\n",
        "\n",
        " DirectoryStructure file ke Proper Output Format e niye ashbo"
      ],
      "metadata": {
        "id": "N14t6EplEelC"
      }
    },
    {
      "cell_type": "code",
      "source": [
        "import os\n",
        "import pandas as pd\n",
        "from google.colab import drive, files\n",
        "\n",
        "# Mount Google Drive\n",
        "drive.mount('/content/drive')\n",
        "\n",
        "def get_max_depth(path):\n",
        "    max_depth = 0\n",
        "    for root, dirs, files in os.walk(path):\n",
        "        depth = root.replace(path, '').count(os.sep)\n",
        "        if depth > max_depth:\n",
        "            max_depth = depth\n",
        "    return max_depth\n",
        "\n",
        "def list_files_and_folders(path, max_depth):\n",
        "    all_entries = []\n",
        "    file_paths = {}  # Dictionary to track file paths and handle duplicates\n",
        "    for root, dirs, files in os.walk(path):\n",
        "        path_parts = root.replace(path, '').strip(os.sep).split(os.sep)\n",
        "        current_depth = len(path_parts)\n",
        "        for f in files:\n",
        "            # Create a unique identifier for the file based on its path\n",
        "            file_id = os.path.join(root, f)\n",
        "            if file_id in file_paths:\n",
        "                # If the file name is duplicated, rename it\n",
        "                base_name, ext = os.path.splitext(f)\n",
        "                new_name = f\"{base_name}_{file_paths[file_id]}{ext}\"\n",
        "                file_paths[file_id] += 1\n",
        "                f = new_name\n",
        "            else:\n",
        "                file_paths[file_id] = 1\n",
        "            # Fill the subfolder information, append the file name to the last\n",
        "            row = [os.path.basename(path)] + path_parts + [''] * (max_depth - current_depth) + [f]\n",
        "            all_entries.append(row)\n",
        "    return all_entries\n",
        "\n",
        "def add_additional_columns(df):\n",
        "    # Add 'sl' column\n",
        "    df['sl'] = df.groupby('Sub2').cumcount() + 1\n",
        "    df['sl'] = df['sl'].apply(lambda x: f\"X{x:03}\")\n",
        "\n",
        "    # Add 'Root' column with constant value 'Test'\n",
        "    df['New_Root'] = 'Test'\n",
        "\n",
        "    # Add 'BKID' column\n",
        "    df['BKID'] = df['Sub2'].apply(lambda x: x[8:11] + x[12:14])\n",
        "\n",
        "    # Add 'xxx' column\n",
        "    df['xxx'] = df.apply(lambda row: f\"XR211C6{row['BKID']}_{row['sl']}\", axis=1)\n",
        "\n",
        "    return df\n",
        "\n",
        "# Define your root folder path on Google Drive\n",
        "root_path = '/content/drive/My Drive/FOLDER8_100_BOOKS'\n",
        "\n",
        "# Calculate the maximum depth of subfolders\n",
        "max_depth = get_max_depth(root_path)\n",
        "\n",
        "# List all files and folders\n",
        "files_folders = list_files_and_folders(root_path, max_depth)\n",
        "\n",
        "# Create a DataFrame with dynamic column names based on the max depth\n",
        "column_names = [\"Root\"] + [f\"Sub{i+1}\" for i in range(max_depth)] + [\"Files\"]\n",
        "df = pd.DataFrame(files_folders, columns=column_names)\n",
        "\n",
        "# Add additional columns\n",
        "df = add_additional_columns(df)\n",
        "\n",
        "# Define the output folder path and check if it exists\n",
        "output_folder_path = '/content/drive/My Drive/your-output-folder-path'\n",
        "if not os.path.exists(output_folder_path):\n",
        "    os.makedirs(output_folder_path)\n",
        "\n",
        "# Save to an Excel file\n",
        "excel_path = os.path.join(output_folder_path, 'DirectoryStructure.xlsx')\n",
        "df.to_excel(excel_path, index=False)\n",
        "\n",
        "# Download the file to your local machine\n",
        "files.download(excel_path)\n",
        "\n",
        "print(f\"Excel file created and downloaded from: {excel_path}\")\n"
      ],
      "metadata": {
        "colab": {
          "base_uri": "https://localhost:8080/",
          "height": 52
        },
        "id": "gyjkjWi1E0mp",
        "outputId": "146edc8b-1ed2-40ea-f600-ce6e4db4f204"
      },
      "execution_count": 7,
      "outputs": [
        {
          "output_type": "stream",
          "name": "stdout",
          "text": [
            "Drive already mounted at /content/drive; to attempt to forcibly remount, call drive.mount(\"/content/drive\", force_remount=True).\n"
          ]
        },
        {
          "output_type": "display_data",
          "data": {
            "text/plain": [
              "<IPython.core.display.Javascript object>"
            ],
            "application/javascript": [
              "\n",
              "    async function download(id, filename, size) {\n",
              "      if (!google.colab.kernel.accessAllowed) {\n",
              "        return;\n",
              "      }\n",
              "      const div = document.createElement('div');\n",
              "      const label = document.createElement('label');\n",
              "      label.textContent = `Downloading \"${filename}\": `;\n",
              "      div.appendChild(label);\n",
              "      const progress = document.createElement('progress');\n",
              "      progress.max = size;\n",
              "      div.appendChild(progress);\n",
              "      document.body.appendChild(div);\n",
              "\n",
              "      const buffers = [];\n",
              "      let downloaded = 0;\n",
              "\n",
              "      const channel = await google.colab.kernel.comms.open(id);\n",
              "      // Send a message to notify the kernel that we're ready.\n",
              "      channel.send({})\n",
              "\n",
              "      for await (const message of channel.messages) {\n",
              "        // Send a message to notify the kernel that we're ready.\n",
              "        channel.send({})\n",
              "        if (message.buffers) {\n",
              "          for (const buffer of message.buffers) {\n",
              "            buffers.push(buffer);\n",
              "            downloaded += buffer.byteLength;\n",
              "            progress.value = downloaded;\n",
              "          }\n",
              "        }\n",
              "      }\n",
              "      const blob = new Blob(buffers, {type: 'application/binary'});\n",
              "      const a = document.createElement('a');\n",
              "      a.href = window.URL.createObjectURL(blob);\n",
              "      a.download = filename;\n",
              "      div.appendChild(a);\n",
              "      a.click();\n",
              "      div.remove();\n",
              "    }\n",
              "  "
            ]
          },
          "metadata": {}
        },
        {
          "output_type": "display_data",
          "data": {
            "text/plain": [
              "<IPython.core.display.Javascript object>"
            ],
            "application/javascript": [
              "download(\"download_6e76d8b5-b63d-4a5b-816f-9bc88f4e0d7a\", \"DirectoryStructure.xlsx\", 83081)"
            ]
          },
          "metadata": {}
        },
        {
          "output_type": "stream",
          "name": "stdout",
          "text": [
            "Excel file created and downloaded from: /content/drive/My Drive/your-output-folder-path/DirectoryStructure.xlsx\n"
          ]
        }
      ]
    },
    {
      "cell_type": "markdown",
      "source": [
        "# **Final Modified Code** with Root folder, serial no, xxx, BookID"
      ],
      "metadata": {
        "id": "Vh9o2TaMXwWo"
      }
    },
    {
      "cell_type": "code",
      "source": [
        "import os\n",
        "import pandas as pd\n",
        "from google.colab import drive, files\n",
        "\n",
        "# Mount Google Drive\n",
        "drive.mount('/content/drive')\n",
        "\n",
        "def get_max_depth(path):\n",
        "    max_depth = 0\n",
        "    for root, dirs, files in os.walk(path):\n",
        "        depth = root.replace(path, '').count(os.sep)\n",
        "        if depth > max_depth:\n",
        "            max_depth = depth\n",
        "    return max_depth\n",
        "\n",
        "def list_files_and_folders(path, max_depth):\n",
        "    all_entries = []\n",
        "    file_paths = {}  # Dictionary to track file paths and handle duplicates\n",
        "    for root, dirs, files in os.walk(path):\n",
        "        path_parts = root.replace(path, '').strip(os.sep).split(os.sep)\n",
        "        current_depth = len(path_parts)\n",
        "        for f in files:\n",
        "            # Create a unique identifier for the file based on its path\n",
        "            file_id = os.path.join(root, f)\n",
        "            if file_id in file_paths:\n",
        "                # If the file name is duplicated, rename it\n",
        "                base_name, ext = os.path.splitext(f)\n",
        "                new_name = f\"{base_name}_{file_paths[file_id]}{ext}\"\n",
        "                file_paths[file_id] += 1\n",
        "                f = new_name\n",
        "            else:\n",
        "                file_paths[file_id] = 1\n",
        "            # Fill the subfolder information, append the file name to the last\n",
        "            row = [os.path.basename(path)] + path_parts + [''] * (max_depth - current_depth) + [f]\n",
        "            all_entries.append(row)\n",
        "    return all_entries\n",
        "\n",
        "def add_additional_columns(df):\n",
        "    # Create a helper column for grouping by the first 12 characters of 'Sub2'\n",
        "    df['Sub2_first12'] = df['Sub2'].str[:12]\n",
        "\n",
        "    # Add 'sl' column\n",
        "    df['sl'] = df.groupby('Sub2_first12').cumcount() + 1\n",
        "    df['sl'] = df['sl'].apply(lambda x: f\"X{x:03}\")\n",
        "\n",
        "    # Add 'Root' column with constant value 'Test'\n",
        "    df['New_Root'] = 'Test'\n",
        "\n",
        "    # Add 'BKID' column\n",
        "    df['BKID'] = df['Sub2'].apply(lambda x: x[8:11] + x[12:14])\n",
        "\n",
        "    # Add 'xxx' column\n",
        "    df['xxx'] = df.apply(lambda row: f\"XR211C6{row['BKID']}_{row['sl']}\", axis=1)\n",
        "\n",
        "    # Drop the helper column\n",
        "    df.drop(columns=['Sub2_first12'], inplace=True)\n",
        "\n",
        "    return df\n",
        "\n",
        "# Define your root folder path on Google Drive\n",
        "root_path = '/content/drive/My Drive/FOLDER8_100_BOOKS'\n",
        "\n",
        "# Calculate the maximum depth of subfolders\n",
        "max_depth = get_max_depth(root_path)\n",
        "\n",
        "# List all files and folders\n",
        "files_folders = list_files_and_folders(root_path, max_depth)\n",
        "\n",
        "# Create a DataFrame with dynamic column names based on the max depth\n",
        "column_names = [\"Root\"] + [f\"Sub{i+1}\" for i in range(max_depth)] + [\"Files\"]\n",
        "df = pd.DataFrame(files_folders, columns=column_names)\n",
        "\n",
        "# Add additional columns\n",
        "df = add_additional_columns(df)\n",
        "\n",
        "# Define the output folder path and check if it exists\n",
        "output_folder_path = '/content/drive/My Drive/your-output-folder-path'\n",
        "if not os.path.exists(output_folder_path):\n",
        "    os.makedirs(output_folder_path)\n",
        "\n",
        "# Save to an Excel file\n",
        "excel_path = os.path.join(output_folder_path, 'DirectoryStructure.xlsx')\n",
        "df.to_excel(excel_path, index=False)\n",
        "\n",
        "# Download the file to your local machine\n",
        "files.download(excel_path)\n",
        "\n",
        "print(f\"Excel file created and downloaded from: {excel_path}\")\n"
      ],
      "metadata": {
        "colab": {
          "base_uri": "https://localhost:8080/",
          "height": 52
        },
        "id": "Tsn38VvIPPGR",
        "outputId": "44ea2394-e03c-4598-bcb4-28eb8510601f"
      },
      "execution_count": 9,
      "outputs": [
        {
          "output_type": "stream",
          "name": "stdout",
          "text": [
            "Drive already mounted at /content/drive; to attempt to forcibly remount, call drive.mount(\"/content/drive\", force_remount=True).\n"
          ]
        },
        {
          "output_type": "display_data",
          "data": {
            "text/plain": [
              "<IPython.core.display.Javascript object>"
            ],
            "application/javascript": [
              "\n",
              "    async function download(id, filename, size) {\n",
              "      if (!google.colab.kernel.accessAllowed) {\n",
              "        return;\n",
              "      }\n",
              "      const div = document.createElement('div');\n",
              "      const label = document.createElement('label');\n",
              "      label.textContent = `Downloading \"${filename}\": `;\n",
              "      div.appendChild(label);\n",
              "      const progress = document.createElement('progress');\n",
              "      progress.max = size;\n",
              "      div.appendChild(progress);\n",
              "      document.body.appendChild(div);\n",
              "\n",
              "      const buffers = [];\n",
              "      let downloaded = 0;\n",
              "\n",
              "      const channel = await google.colab.kernel.comms.open(id);\n",
              "      // Send a message to notify the kernel that we're ready.\n",
              "      channel.send({})\n",
              "\n",
              "      for await (const message of channel.messages) {\n",
              "        // Send a message to notify the kernel that we're ready.\n",
              "        channel.send({})\n",
              "        if (message.buffers) {\n",
              "          for (const buffer of message.buffers) {\n",
              "            buffers.push(buffer);\n",
              "            downloaded += buffer.byteLength;\n",
              "            progress.value = downloaded;\n",
              "          }\n",
              "        }\n",
              "      }\n",
              "      const blob = new Blob(buffers, {type: 'application/binary'});\n",
              "      const a = document.createElement('a');\n",
              "      a.href = window.URL.createObjectURL(blob);\n",
              "      a.download = filename;\n",
              "      div.appendChild(a);\n",
              "      a.click();\n",
              "      div.remove();\n",
              "    }\n",
              "  "
            ]
          },
          "metadata": {}
        },
        {
          "output_type": "display_data",
          "data": {
            "text/plain": [
              "<IPython.core.display.Javascript object>"
            ],
            "application/javascript": [
              "download(\"download_5c91f050-a9f3-4639-a047-04b6454c1553\", \"DirectoryStructure.xlsx\", 93142)"
            ]
          },
          "metadata": {}
        },
        {
          "output_type": "stream",
          "name": "stdout",
          "text": [
            "Excel file created and downloaded from: /content/drive/My Drive/your-output-folder-path/DirectoryStructure.xlsx\n"
          ]
        }
      ]
    }
  ]
}